{
 "cells": [
  {
   "cell_type": "markdown",
   "metadata": {},
   "source": [
    "Ваша задача дописать функции, чтобы они проходили все тесты <br>\n",
    "Именование функций проиходит по шаблону: `t{number_of_task}`. Пожалуйста не меняйте эти имена. <br>\n",
    "Разрешается использовать только стандартные библиотеки языка."
   ]
  },
  {
   "cell_type": "code",
   "execution_count": 71,
   "metadata": {},
   "outputs": [
    {
     "data": {
      "text/plain": [
       "(-40, -20, 0, 40, 60)"
      ]
     },
     "execution_count": 71,
     "metadata": {},
     "output_type": "execute_result"
    }
   ],
   "source": [
    "def t1(number):\n",
    "    \"\"\"\n",
    "    Поправьте код что бы возвращаемое значение было следующим кратным 20\n",
    "    Пример: number=21 тогда нужно вернуть 40\n",
    "    \"\"\"\n",
    "    return number if not number % 20 else (number + 20) - (number + 20) % 20\n",
    "\n",
    "t1(-41), t1(-20), t1(0), t1(40), t1(51)"
   ]
  },
  {
   "cell_type": "code",
   "execution_count": 72,
   "metadata": {},
   "outputs": [
    {
     "data": {
      "text/plain": [
       "'cba cba dcba dasdsa'"
      ]
     },
     "execution_count": 72,
     "metadata": {},
     "output_type": "execute_result"
    }
   ],
   "source": [
    "def t2(string):\n",
    "    \"\"\"\n",
    "    На вход подается набор слов разделенных пробелом, инвертируйте каждое слово.\n",
    "    Пример: `abc abc abc` -> `cba cba cba`\n",
    "    \"\"\"\n",
    "    return ' '.join([word[::-1] for word in string.split()])\n",
    "\n",
    "t2('abc abc abcd asdsad     ')"
   ]
  },
  {
   "cell_type": "code",
   "execution_count": 73,
   "metadata": {},
   "outputs": [
    {
     "data": {
      "text/plain": [
       "\"{'0': 0; '1': 1; '2': 2; '3': 3; '4': 4; '5': 5; '6': 6}\""
      ]
     },
     "execution_count": 73,
     "metadata": {},
     "output_type": "execute_result"
    }
   ],
   "source": [
    "def t3(dictionary):\n",
    "    \"\"\"\n",
    "    На вход подается словарь. Преорбазуйте его в строку по следующему шаблону 'key: value; key: value' и так далее\n",
    "    \"\"\"\n",
    "    return str(dictionary).replace(',', ';')\n",
    "\n",
    "t3({str(i): i for i in range(7)})"
   ]
  },
  {
   "cell_type": "code",
   "execution_count": 74,
   "metadata": {},
   "outputs": [
    {
     "data": {
      "text/plain": [
       "(True, False)"
      ]
     },
     "execution_count": 74,
     "metadata": {},
     "output_type": "execute_result"
    }
   ],
   "source": [
    "def t4(string, sub_string):\n",
    "    \"\"\"\n",
    "    проверить есть ли в строке инвертированая подстрока\n",
    "    \"\"\"\n",
    "    return sub_string[::-1] in string\n",
    "\n",
    "t4('abc abc', 'cba'), t4('abc abc', 'ca') "
   ]
  },
  {
   "cell_type": "code",
   "execution_count": 75,
   "metadata": {},
   "outputs": [
    {
     "data": {
      "text/plain": [
       "['1 2 3 1*2*3', '221 2 0 221*2*0']"
      ]
     },
     "execution_count": 75,
     "metadata": {},
     "output_type": "execute_result"
    }
   ],
   "source": [
    "def t5(strings):\n",
    "    \"\"\"\n",
    "    На вход подается список строк,\n",
    "    Отфильтруйте список строк, оставив только строки в формате: `x y z x*y*z`, где x,y,z - целые положительные числа\n",
    "    \"\"\"\n",
    "    filtered_strings = []\n",
    "    for string in strings:\n",
    "        try:\n",
    "            x, y, z = [int(i) for i in string.split()[:3]]\n",
    "            if f'{x} {y} {z} {x}*{y}*{z}' == string and x >= 0 and y >= 0 and z >= 0:\n",
    "                filtered_strings.append(string)\n",
    "        except ValueError:\n",
    "            continue\n",
    "    return filtered_strings\n",
    "\n",
    "t5(['1 2 3 1*2*3', '1 2. 3 1*2.*3', 'asdas', 'as s', '-1 2 3 -1*2*3', '221 2 0 221*2*0'])"
   ]
  },
  {
   "cell_type": "code",
   "execution_count": 76,
   "metadata": {},
   "outputs": [
    {
     "data": {
      "text/plain": [
       "('', 'ac', '', '', '\"')"
      ]
     },
     "execution_count": 76,
     "metadata": {},
     "output_type": "execute_result"
    }
   ],
   "source": [
    "def t6(string):\n",
    "    \"\"\"\n",
    "    Предположим у вас есть строки содержащие `#` символ, который означает backspace (удаление предыдущего) обработаете\n",
    "        такие строки\n",
    "    \"abc#d##c\"      ==>  \"ac\"\n",
    "    \"abc##d######\"  ==>  \"\"\n",
    "    \"#######\"       ==>  \"\"\n",
    "    \"\"              ==>  \"\"\n",
    "    \"\"\"\n",
    "    while string.find('#') != -1:\n",
    "        index = string.find('#')\n",
    "        string = string[:max(0, index-1)]+string[index+1:]\n",
    "    return string\n",
    "\n",
    "t6('abc##d######'), t6('abc#d##c'), t6('#######'), t6(''), t6('\"')"
   ]
  },
  {
   "cell_type": "code",
   "execution_count": 83,
   "metadata": {},
   "outputs": [
    {
     "data": {
      "text/plain": [
       "15"
      ]
     },
     "execution_count": 83,
     "metadata": {},
     "output_type": "execute_result"
    }
   ],
   "source": [
    "def t7(lst):\n",
    "    \"\"\"\n",
    "    На вход подается список элементов, найдите сумму уникальных элементов списка.\n",
    "    Например: [4,5,7,5,4,8] -> 15 потому что 7 и 8 уникальны\n",
    "    \"\"\"\n",
    "    return sum([i for i in lst if lst.count(i) == 1])\n",
    "\n",
    "t7([4,5,7,5,4,8])"
   ]
  },
  {
   "cell_type": "code",
   "execution_count": 95,
   "metadata": {},
   "outputs": [
    {
     "data": {
      "text/plain": [
       "695"
      ]
     },
     "execution_count": 95,
     "metadata": {},
     "output_type": "execute_result"
    }
   ],
   "source": [
    "def t8(string):\n",
    "    \"\"\"\n",
    "    Найдите все последовательности числев в строке и среди них найдите максимальное число\n",
    "    gh12cdy695m1 -> 695\n",
    "    \"\"\"\n",
    "    return max([int(k) for k in ''.join([i if i.isnumeric() else ' ' for i in string]).split()])\n",
    "\n",
    "t8('gh12cdy695m1')"
   ]
  },
  {
   "cell_type": "code",
   "execution_count": 122,
   "metadata": {},
   "outputs": [
    {
     "data": {
      "text/plain": [
       "'00012'"
      ]
     },
     "execution_count": 122,
     "metadata": {},
     "output_type": "execute_result"
    }
   ],
   "source": [
    "def t9(number):\n",
    "    \"\"\"\n",
    "    Приведите число number к пятизначному виду.\n",
    "    Т.е. для числа 5 верните `00005`\n",
    "    \"\"\"\n",
    "    return ('00000'+str(number))[-5:]\n",
    "\n",
    "t9(12)    "
   ]
  },
  {
   "cell_type": "code",
   "execution_count": 136,
   "metadata": {},
   "outputs": [
    {
     "data": {
      "text/plain": [
       "'G'"
      ]
     },
     "execution_count": 136,
     "metadata": {},
     "output_type": "execute_result"
    }
   ],
   "source": [
    "def t10(string):\n",
    "    \"\"\"\n",
    "    Произведите смешивание цветов. Вам будет дана строка, необходимо смешать все пары цветов и вернуть результируюший\n",
    "        цвет\n",
    "    Комбинации цветов:    G G     B G    R G   B R\n",
    "    Результирующий цвет:   G       R      B     G\n",
    "    R R G B R G B B  <- ввод\n",
    "     R B R G B R B\n",
    "      G G B R G G\n",
    "       G R G B G\n",
    "        B B R R\n",
    "         B G R\n",
    "          R B\n",
    "           G  <-- вывод\n",
    "    \"\"\"\n",
    "    def new_col(col1, col2):\n",
    "        if col1 == col2:\n",
    "            new = col1\n",
    "        elif col1+col2 == 'BG' or col2+col1 == 'BG':\n",
    "            new = 'R'\n",
    "        elif col1+col2 == 'RG' or col2+col1 == 'RG':\n",
    "            new = 'B'\n",
    "        else:\n",
    "            new = 'G'\n",
    "        return new\n",
    "    \n",
    "    if len(string) != 1:\n",
    "        cols = string.split()\n",
    "        new_cols = []\n",
    "        for i in range(len(cols)-1):\n",
    "            new_cols.append(new_col(cols[i], cols[i+1]))\n",
    "        return t10(' '.join(new_cols))\n",
    "        \n",
    "    else:\n",
    "         return string\n",
    "        \n",
    "t10('R R G B R G B B')"
   ]
  },
  {
   "cell_type": "code",
   "execution_count": 140,
   "metadata": {},
   "outputs": [
    {
     "data": {
      "text/plain": [
       "(3, 2, -1)"
      ]
     },
     "execution_count": 140,
     "metadata": {},
     "output_type": "execute_result"
    }
   ],
   "source": [
    "def t11(lst):\n",
    "    \"\"\"\n",
    "    Вам дам список из целых чисел. Найдите индекс числа такого, что левая и правая части списка от него равны\n",
    "        Если такого элемента нет - верните -1. Если вы нашли два элемента -> верните тот, который левее.\n",
    "    [1,2,3,5,3,2,1] = 3\n",
    "    [1,12,3,3,6,3,1] = 2\n",
    "    [10,20,30,40] = -1\n",
    "    \"\"\"\n",
    "    for i, k in enumerate(lst):\n",
    "        if sum(lst[:i]) == sum(lst[i+1:]):\n",
    "            return i\n",
    "    else:\n",
    "        return -1\n",
    "    \n",
    "t11([1,2,3,5,3,2,1]), t11([1,12,3,3,6,3,1]), t11([10,20,30,40])"
   ]
  },
  {
   "cell_type": "code",
   "execution_count": 145,
   "metadata": {},
   "outputs": [
    {
     "data": {
      "text/plain": [
       "['+79011234567', '79011234567', '89011234567']"
      ]
     },
     "execution_count": 145,
     "metadata": {},
     "output_type": "execute_result"
    }
   ],
   "source": [
    "import re\n",
    "def t12(lst):\n",
    "    \"\"\"\n",
    "    На вход подается список строк вида `Что-то происходит бла бла бла +790112345678` содержащие номер телефона.\n",
    "        Используя regex выражения запишите всевозможноые комбинации телефонов, например программа должна корректно\n",
    "        работать с 790112345678 или 890112345678\n",
    "    Вход: [`Что-то происходит бла бла бла +790112345678`, `Звони 790112345678 мне`, `По вопросам рекламы 890112345678` ]\n",
    "    Выход: список номеров\n",
    "    \"\"\"\n",
    "    REG_EXPR = r'[+]*\\d{11}'\n",
    "    comp_reg_expr = re.compile(REG_EXPR)\n",
    "    numbers = []\n",
    "    for string in lst:\n",
    "        numbers += comp_reg_expr.findall(string)\n",
    "    return numbers\n",
    "\n",
    "t12(['Что-то происходит бла бла бла +790112345678', 'Звони 790112345678 мне', 'По  122 воп122росам рекламы 890112345678'])"
   ]
  },
  {
   "cell_type": "code",
   "execution_count": 150,
   "metadata": {},
   "outputs": [
    {
     "data": {
      "text/plain": [
       "4416"
      ]
     },
     "execution_count": 150,
     "metadata": {},
     "output_type": "execute_result"
    }
   ],
   "source": [
    "def t13(number_1, number_2):\n",
    "    \"\"\"\n",
    "    Сложите два числа по элементно:\n",
    "        248\n",
    "       +208\n",
    "        4416\n",
    "    \"\"\"\n",
    "    out = ''\n",
    "    for i, k in zip(str(number_1), str(number_2)):\n",
    "        out += str(int(i) + int(k))\n",
    "    return int(out)\n",
    "\n",
    "t13(248, 208)"
   ]
  },
  {
   "cell_type": "code",
   "execution_count": 168,
   "metadata": {},
   "outputs": [
    {
     "data": {
      "text/plain": [
       "('Four  To The Power Of  Nine ', 'Two  Minus  Five  To The Power Of  Three ')"
      ]
     },
     "execution_count": 168,
     "metadata": {},
     "output_type": "execute_result"
    }
   ],
   "source": [
    "def t14(string):\n",
    "    \"\"\"\n",
    "    Преобразуйте математическое выражение (символьное) в буквенное выраэение\n",
    "    Для операций используйте следующую таблицу\n",
    "        { '+':   'Plus ',\n",
    "          '-':   'Minus ',\n",
    "          '*':   'Times ',\n",
    "          '/':   'Divided By ',\n",
    "          '**':  'To The Power Of ',\n",
    "          '=':   'Equals ',\n",
    "          '!=':  'Does Not Equal ' }\n",
    "    Примеры:\n",
    "        4 ** 9 -> Four To The Power Of Nine\n",
    "        10 - 5 -> Ten Minus Five\n",
    "        2 = 2  -> Two Equals Two\n",
    "    \"\"\"\n",
    "    mapping = { '+':   'Plus ',\n",
    "              '-':   'Minus ',\n",
    "              '*':   'Times ',\n",
    "              '/':   'Divided By ',\n",
    "              '**':  'To The Power Of ',\n",
    "              '=':   'Equals ',\n",
    "              '!=':  'Does Not Equal ', \n",
    "              '1': 'One ', \n",
    "               '2': 'Two ', \n",
    "               '3': 'Three ', \n",
    "               '4': 'Four ', \n",
    "               '5': 'Five ', \n",
    "               '6': 'Six ', \n",
    "               '7': 'Seven ', \n",
    "               '8': 'Eight ', \n",
    "               '9': 'Nine ', \n",
    "               '10': 'Ten '}\n",
    "    for i in set(string.split()):\n",
    "        string = string.replace(i, mapping[i])\n",
    "    return string\n",
    "\n",
    "t14('4 ** 9'), t14('2 - 5 ** 3')"
   ]
  },
  {
   "cell_type": "code",
   "execution_count": 171,
   "metadata": {},
   "outputs": [
    {
     "data": {
      "text/plain": [
       "30"
      ]
     },
     "execution_count": 171,
     "metadata": {},
     "output_type": "execute_result"
    }
   ],
   "source": [
    "def t15(lst):\n",
    "    \"\"\"\n",
    "    Найдите сумму элементов на диагонали\n",
    "    [[ 1, 2, 3 ],\n",
    "    [ 4, 5, 6 ],\n",
    "    [ 7, 8, 9 ]]\n",
    "    Результат: 30\n",
    "    \"\"\"\n",
    "    out = 0\n",
    "    i = 0\n",
    "    for string in lst:\n",
    "        out += string[i] + string[-i-1]\n",
    "        i += 1\n",
    "    return out\n",
    "\n",
    "t15([[ 1, 2, 3 ],\n",
    "    [ 4, 5, 6 ],\n",
    "    [ 7, 8, 9 ]])"
   ]
  }
 ],
 "metadata": {
  "kernelspec": {
   "display_name": "Python 3",
   "language": "python",
   "name": "python3"
  },
  "language_info": {
   "codemirror_mode": {
    "name": "ipython",
    "version": 3
   },
   "file_extension": ".py",
   "mimetype": "text/x-python",
   "name": "python",
   "nbconvert_exporter": "python",
   "pygments_lexer": "ipython3",
   "version": "3.8.3"
  }
 },
 "nbformat": 4,
 "nbformat_minor": 4
}
