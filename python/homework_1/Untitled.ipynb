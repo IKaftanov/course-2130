{
 "cells": [
  {
   "cell_type": "code",
   "execution_count": 13,
   "metadata": {},
   "outputs": [],
   "source": [
    "def t1(number):\n",
    "    \"\"\"\n",
    "    Поправьте код что бы возвращаемое значение было ближайшим сверху, кратным к 20\n",
    "\n",
    "    Пример: number=21 тогда нужно вернуть 40\n",
    "    Пример: -5 -> 0\n",
    "\n",
    "    \"\"\"\n",
    "    return (number+19)//20*20"
   ]
  },
  {
   "cell_type": "code",
   "execution_count": 16,
   "metadata": {},
   "outputs": [
    {
     "data": {
      "text/plain": [
       "20"
      ]
     },
     "execution_count": 16,
     "metadata": {},
     "output_type": "execute_result"
    }
   ],
   "source": [
    "t1(20)"
   ]
  },
  {
   "cell_type": "code",
   "execution_count": 12,
   "metadata": {},
   "outputs": [
    {
     "data": {
      "text/plain": [
       "15"
      ]
     },
     "execution_count": 12,
     "metadata": {},
     "output_type": "execute_result"
    }
   ],
   "source": [
    "-5%20"
   ]
  },
  {
   "cell_type": "code",
   "execution_count": 17,
   "metadata": {},
   "outputs": [],
   "source": [
    "def t2(string):\n",
    "    \"\"\"\n",
    "    На вход подается набор слов разделенных пробелом, инвертируйте каждое слово.\n",
    "\n",
    "    Пример: `abc abc abc` -> `cba cba cba`\n",
    "    \"\"\"\n",
    "    return (string[::-1])"
   ]
  },
  {
   "cell_type": "code",
   "execution_count": null,
   "metadata": {},
   "outputs": [],
   "source": []
  },
  {
   "cell_type": "code",
   "execution_count": null,
   "metadata": {},
   "outputs": [],
   "source": []
  },
  {
   "cell_type": "code",
   "execution_count": 19,
   "metadata": {},
   "outputs": [
    {
     "data": {
      "text/plain": [
       "'cba cba cba'"
      ]
     },
     "execution_count": 19,
     "metadata": {},
     "output_type": "execute_result"
    }
   ],
   "source": [
    "t2('abc abc abc')"
   ]
  },
  {
   "cell_type": "code",
   "execution_count": 36,
   "metadata": {},
   "outputs": [],
   "source": [
    "def t3(dictionary):\n",
    "    \"\"\"\n",
    "    На вход подается словарь. Преорбазуйте его в строку по следующему шаблону 'key: value; key: value' и так далее\n",
    "\n",
    "    \"\"\"\n",
    "    return str(dictionary)[1:-1].replace(',',';').replace(\"'\",\"\")"
   ]
  },
  {
   "cell_type": "code",
   "execution_count": 29,
   "metadata": {},
   "outputs": [
    {
     "data": {
      "text/plain": [
       "\"{'one': 1, 'two': 2, 'three': 6}\""
      ]
     },
     "execution_count": 29,
     "metadata": {},
     "output_type": "execute_result"
    }
   ],
   "source": [
    "t3(s)"
   ]
  },
  {
   "cell_type": "code",
   "execution_count": 26,
   "metadata": {},
   "outputs": [],
   "source": [
    "s=dict({'one':1, 'two':2, \n",
    "    'three': 6})"
   ]
  },
  {
   "cell_type": "code",
   "execution_count": 28,
   "metadata": {},
   "outputs": [
    {
     "data": {
      "text/plain": [
       "dict"
      ]
     },
     "execution_count": 28,
     "metadata": {},
     "output_type": "execute_result"
    }
   ],
   "source": [
    "type(s)"
   ]
  },
  {
   "cell_type": "code",
   "execution_count": 37,
   "metadata": {},
   "outputs": [
    {
     "data": {
      "text/plain": [
       "'one: 1; two: 2; three: 6'"
      ]
     },
     "execution_count": 37,
     "metadata": {},
     "output_type": "execute_result"
    }
   ],
   "source": [
    "str(s)[1:-1].replace(',',';').replace(\"'\",\"\")"
   ]
  },
  {
   "cell_type": "code",
   "execution_count": 120,
   "metadata": {},
   "outputs": [],
   "source": [
    "def t13(number_1, number_2):\n",
    "    \"\"\"\n",
    "    Сложите два числа по элементно:\n",
    "        248\n",
    "       +208\n",
    "        4416\n",
    "    \"\"\"\n",
    "    s={}\n",
    "    f={}\n",
    "    d=max(len(str(number_1)), len(str(number_2)))-min(len(str(number_1)), len(str(number_2)))\n",
    "    k=min(len(str(number_1)), len(str(number_2)))\n",
    "    for i in range(1,k+1):\n",
    "        s[i] = (int(str(number_1)[-i])+int(str(number_2)[-i]))\n",
    "        if len(str(number_1)) != len(str(number_2)):\n",
    "            for j in range (0,d):\n",
    "                if len(str(number_1)) > len(str(number_2)):\n",
    "                    f[j]=int(str(number_1)[j])\n",
    "                else:\n",
    "                    f[j]=int(str(number_2)[j])\n",
    "    return int(str(list(f.values())).replace('[','').replace(']','').replace(', ','')+str(list(s.values())[::-1]).replace('[','').replace(']','').replace(', ',''))\n",
    "    "
   ]
  },
  {
   "cell_type": "code",
   "execution_count": 123,
   "metadata": {},
   "outputs": [
    {
     "data": {
      "text/plain": [
       "1"
      ]
     },
     "execution_count": 123,
     "metadata": {},
     "output_type": "execute_result"
    }
   ],
   "source": [
    "t13(0, 1)"
   ]
  },
  {
   "cell_type": "code",
   "execution_count": 70,
   "metadata": {},
   "outputs": [],
   "source": [
    "a=248"
   ]
  },
  {
   "cell_type": "code",
   "execution_count": 71,
   "metadata": {},
   "outputs": [],
   "source": [
    "b=208"
   ]
  },
  {
   "cell_type": "code",
   "execution_count": 72,
   "metadata": {},
   "outputs": [
    {
     "data": {
      "text/plain": [
       "16"
      ]
     },
     "execution_count": 72,
     "metadata": {},
     "output_type": "execute_result"
    }
   ],
   "source": [
    "int(str(a)[-1])+int(str(a)[-1])"
   ]
  },
  {
   "cell_type": "code",
   "execution_count": 76,
   "metadata": {},
   "outputs": [],
   "source": [
    "s={}\n",
    "if len(str(a)) <= len(str(b)):\n",
    "    for i in range(1,len(str(a))+1):\n",
    "    #for j in range(1,len(str(b))+1):\n",
    "        s[i] = (int(str(a)[-i])+int(str(b)[-i]))\n",
    "        \n",
    "    "
   ]
  },
  {
   "cell_type": "code",
   "execution_count": 118,
   "metadata": {},
   "outputs": [
    {
     "ename": "SyntaxError",
     "evalue": "'return' outside function (<ipython-input-118-7d0e23c20398>, line 18)",
     "output_type": "error",
     "traceback": [
      "\u001b[1;36m  File \u001b[1;32m\"<ipython-input-118-7d0e23c20398>\"\u001b[1;36m, line \u001b[1;32m18\u001b[0m\n\u001b[1;33m    return int(str(list(f.values())).replace('[','').replace(']','').replace(', ','')+str(list(s.values())[::-1]).replace('[','').replace(']','').replace(', ',''))\u001b[0m\n\u001b[1;37m                                                                                                                                                                   ^\u001b[0m\n\u001b[1;31mSyntaxError\u001b[0m\u001b[1;31m:\u001b[0m 'return' outside function\n"
     ]
    }
   ],
   "source": [
    "a=22\n",
    "b=11\n",
    "\n",
    "\n",
    "s={}\n",
    "f={}\n",
    "d=max(len(str(a)), len(str(b)))-min(len(str(a)), len(str(b)))\n",
    "k=min(len(str(a)), len(str(b)))\n",
    "for i in range(1,k+1):\n",
    "    #for j in range(1,len(str(b))+1):\n",
    "    s[i] = (int(str(a)[-i])+int(str(b)[-i]))\n",
    "    if len(str(a)) != len(str(b)):\n",
    "        for j in range (0,d):\n",
    "            if len(str(a)) > len(str(b)):\n",
    "                f[j]=int(str(a)[j])\n",
    "            else:\n",
    "                f[j]=int(str(b)[j])\n",
    "#return int(str(list(f.values())).replace('[','').replace(']','').replace(', ','')+str(list(s.values())[::-1]).replace('[','').replace(']','').replace(', ',''))"
   ]
  },
  {
   "cell_type": "code",
   "execution_count": 110,
   "metadata": {},
   "outputs": [
    {
     "data": {
      "text/plain": [
       "{0: 2}"
      ]
     },
     "execution_count": 110,
     "metadata": {},
     "output_type": "execute_result"
    }
   ],
   "source": [
    "f"
   ]
  },
  {
   "cell_type": "code",
   "execution_count": 119,
   "metadata": {},
   "outputs": [
    {
     "data": {
      "text/plain": [
       "'33'"
      ]
     },
     "execution_count": 119,
     "metadata": {},
     "output_type": "execute_result"
    }
   ],
   "source": [
    "str(list(f.values())).replace('[','').replace(']','').replace(', ','')+str(list(s.values())[::-1]).replace('[','').replace(']','').replace(', ','')"
   ]
  },
  {
   "cell_type": "code",
   "execution_count": 93,
   "metadata": {},
   "outputs": [
    {
     "data": {
      "text/plain": [
       "{}"
      ]
     },
     "execution_count": 93,
     "metadata": {},
     "output_type": "execute_result"
    }
   ],
   "source": [
    "f"
   ]
  },
  {
   "cell_type": "code",
   "execution_count": 90,
   "metadata": {},
   "outputs": [
    {
     "data": {
      "text/plain": [
       "True"
      ]
     },
     "execution_count": 90,
     "metadata": {},
     "output_type": "execute_result"
    }
   ],
   "source": [
    "1!=2"
   ]
  },
  {
   "cell_type": "code",
   "execution_count": 88,
   "metadata": {},
   "outputs": [
    {
     "data": {
      "text/plain": [
       "4416"
      ]
     },
     "execution_count": 88,
     "metadata": {},
     "output_type": "execute_result"
    }
   ],
   "source": [
    "int(str(list(s.values())[::-1]).replace('[','').replace(']','').replace(', ',''))"
   ]
  },
  {
   "cell_type": "code",
   "execution_count": 46,
   "metadata": {},
   "outputs": [
    {
     "data": {
      "text/plain": [
       "2"
      ]
     },
     "execution_count": 46,
     "metadata": {},
     "output_type": "execute_result"
    }
   ],
   "source": [
    "int(str(a)[-len(str(a))])"
   ]
  },
  {
   "cell_type": "code",
   "execution_count": 16,
   "metadata": {},
   "outputs": [],
   "source": [
    "def t14(string):\n",
    "    \"\"\"\n",
    "    Преобразуйте математическое выражение (символьное) в буквенное выраэение\n",
    "\n",
    "    Для операций используйте следующую таблицу\n",
    "        { '+':   'Plus ',\n",
    "          '-':   'Minus ',\n",
    "          '*':   'Times ',\n",
    "          '/':   'Divided By ',\n",
    "          '**':  'To The Power Of ',\n",
    "          '=':   'Equals ',\n",
    "          '!=':  'Does Not Equal ' }\n",
    "    Примеры:\n",
    "        4 ** 9 -> Four To The Power Of Nine\n",
    "        10 - 5 -> Ten Minus Five\n",
    "        2 = 2  -> Two Equals Two\n",
    "    \"\"\"\n",
    "    mydict = {'1': 'One', '2': 'Two', '3': 'Three', '4': 'Four', '5': 'Five', \n",
    "            '6': 'Six', '7': 'Seven', '8': 'Eight', '9': 'Nine', '10': 'Ten','+':   ' Plus ',  '-':   ' Minus ',\n",
    "          '*':   ' Times ',\n",
    "          '/':   ' Divided By ',\n",
    "          '**':  ' To The Power Of ',\n",
    "          '=':   ' Equals ',\n",
    "          '!=':  ' Does Not Equal ' }\n",
    "    f=''\n",
    "    s = string.split(' ')\n",
    "    for i in s:\n",
    "        if i in mydict.keys():\n",
    "            f += mydict.get(i)\n",
    "    return f"
   ]
  },
  {
   "cell_type": "code",
   "execution_count": 17,
   "metadata": {},
   "outputs": [
    {
     "data": {
      "text/plain": [
       "'Six To The Power Of Nine'"
      ]
     },
     "execution_count": 17,
     "metadata": {},
     "output_type": "execute_result"
    }
   ],
   "source": [
    "t14('6 ** 9')"
   ]
  },
  {
   "cell_type": "code",
   "execution_count": 4,
   "metadata": {},
   "outputs": [],
   "source": [
    "    mydict = {'1': 'One', '2': 'Two', '3': 'Three', '4': 'Four', '5': 'Five', \n",
    "            '6': 'Six', '7': 'Seven', '8': 'Eight', '9': 'Nine', '10': 'Ten','+':   ' Plus ',  '-':   ' Minus ',\n",
    "          '*':   ' Times ',\n",
    "          '/':   ' Divided By ',\n",
    "          '**':  ' To The Power Of ',\n",
    "          '=':   ' Equals ',\n",
    "          '!=':  ' Does Not Equal ' }"
   ]
  },
  {
   "cell_type": "code",
   "execution_count": 15,
   "metadata": {},
   "outputs": [
    {
     "name": "stdout",
     "output_type": "stream",
     "text": [
      "Eight Does Not Equal Five\n"
     ]
    }
   ],
   "source": [
    "string = '8 != 5'\n",
    "s = string.split(' ')\n",
    "f=''\n",
    "\n",
    "for i in s:\n",
    "        if i in mydict.keys():\n",
    "            f += mydict.get(i)\n",
    "print (f)"
   ]
  },
  {
   "cell_type": "code",
   "execution_count": 11,
   "metadata": {},
   "outputs": [
    {
     "data": {
      "text/plain": [
       "'Eight Times  Times Five'"
      ]
     },
     "execution_count": 11,
     "metadata": {},
     "output_type": "execute_result"
    }
   ],
   "source": [
    "t14('8 ** 5')"
   ]
  },
  {
   "cell_type": "code",
   "execution_count": 7,
   "metadata": {},
   "outputs": [],
   "source": [
    "string = '8 != 5'"
   ]
  },
  {
   "cell_type": "code",
   "execution_count": 12,
   "metadata": {},
   "outputs": [
    {
     "data": {
      "text/plain": [
       "['8', '!=', '5']"
      ]
     },
     "execution_count": 12,
     "metadata": {},
     "output_type": "execute_result"
    }
   ],
   "source": [
    "string.split(' ')"
   ]
  },
  {
   "cell_type": "code",
   "execution_count": 8,
   "metadata": {},
   "outputs": [
    {
     "name": "stdout",
     "output_type": "stream",
     "text": [
      "8\n",
      " \n",
      "!\n",
      "=\n",
      " \n",
      "5\n"
     ]
    }
   ],
   "source": [
    "for i in string:\n",
    "    print (i)"
   ]
  },
  {
   "cell_type": "code",
   "execution_count": 10,
   "metadata": {},
   "outputs": [
    {
     "data": {
      "text/plain": [
       "'!'"
      ]
     },
     "execution_count": 10,
     "metadata": {},
     "output_type": "execute_result"
    }
   ],
   "source": [
    "string[2]"
   ]
  },
  {
   "cell_type": "code",
   "execution_count": 5,
   "metadata": {},
   "outputs": [
    {
     "data": {
      "text/plain": [
       "' Does Not Equal '"
      ]
     },
     "execution_count": 5,
     "metadata": {},
     "output_type": "execute_result"
    }
   ],
   "source": [
    "mydict.get('!=')"
   ]
  },
  {
   "cell_type": "code",
   "execution_count": 159,
   "metadata": {},
   "outputs": [],
   "source": [
    " mydict = {'1': 'One', '2': 'Two', '3': 'Three', '4': 'Four', '5': 'Five', \n",
    "            '6': 'Six', '7': 'Seven', '8': 'Eight', '9': 'Nine', '10': 'Ten','+':   'Plus ',  '-':   'Minus ',\n",
    "          '*':   'Times',\n",
    "          '/':   'Divided By',\n",
    "          '**':  'To The Power Of',\n",
    "          '=':   'Equals ',\n",
    "          '!=':  'Does Not Equal ' }"
   ]
  },
  {
   "cell_type": "code",
   "execution_count": 197,
   "metadata": {},
   "outputs": [],
   "source": [
    "s='4 ** 4'"
   ]
  },
  {
   "cell_type": "code",
   "execution_count": 198,
   "metadata": {},
   "outputs": [],
   "source": [
    "s1=s.split(' ')"
   ]
  },
  {
   "cell_type": "code",
   "execution_count": 201,
   "metadata": {},
   "outputs": [
    {
     "data": {
      "text/plain": [
       "['4', '**', '4']"
      ]
     },
     "execution_count": 201,
     "metadata": {},
     "output_type": "execute_result"
    }
   ],
   "source": [
    "s1"
   ]
  },
  {
   "cell_type": "code",
   "execution_count": 147,
   "metadata": {},
   "outputs": [
    {
     "data": {
      "text/plain": [
       "dict_keys([1, 2, 3, 4, 5, 6, 7, 8, 9, 10, '+', '-', '*', '/', '**', '=', '!='])"
      ]
     },
     "execution_count": 147,
     "metadata": {},
     "output_type": "execute_result"
    }
   ],
   "source": [
    "mydict.keys()"
   ]
  },
  {
   "cell_type": "code",
   "execution_count": null,
   "metadata": {},
   "outputs": [],
   "source": [
    "for i in s1:\n",
    "    if i == "
   ]
  },
  {
   "cell_type": "code",
   "execution_count": 139,
   "metadata": {},
   "outputs": [],
   "source": [
    "for keys in list(mydict.keys()):\n",
    "    mydict[keys]"
   ]
  },
  {
   "cell_type": "code",
   "execution_count": 135,
   "metadata": {},
   "outputs": [
    {
     "data": {
      "text/plain": [
       "[1, 2, 3, 4, 5, 6, 7, 8, 9, 10, '+', '-', '*', '/', '**', '=', '!=']"
      ]
     },
     "execution_count": 135,
     "metadata": {},
     "output_type": "execute_result"
    }
   ],
   "source": [
    "list(mydict.keys())"
   ]
  },
  {
   "cell_type": "code",
   "execution_count": 199,
   "metadata": {},
   "outputs": [],
   "source": [
    "f=''\n",
    "for i in s1:\n",
    "    if i in mydict.keys():\n",
    "        f += mydict.get(i)"
   ]
  },
  {
   "cell_type": "code",
   "execution_count": 200,
   "metadata": {},
   "outputs": [
    {
     "data": {
      "text/plain": [
       "'Four To The Power Of Four'"
      ]
     },
     "execution_count": 200,
     "metadata": {},
     "output_type": "execute_result"
    }
   ],
   "source": [
    "f"
   ]
  },
  {
   "cell_type": "code",
   "execution_count": 167,
   "metadata": {},
   "outputs": [
    {
     "data": {
      "text/plain": [
       "'Four To The Power Of  Nine'"
      ]
     },
     "execution_count": 167,
     "metadata": {},
     "output_type": "execute_result"
    }
   ],
   "source": [
    "\", \".join(list(f.values())).replace(',','')"
   ]
  },
  {
   "cell_type": "code",
   "execution_count": 178,
   "metadata": {},
   "outputs": [
    {
     "data": {
      "text/plain": [
       "'Four, To The Power Of , Nine'"
      ]
     },
     "execution_count": 178,
     "metadata": {},
     "output_type": "execute_result"
    }
   ],
   "source": [
    "\", \".join(list(f.values()))"
   ]
  },
  {
   "cell_type": "code",
   "execution_count": 165,
   "metadata": {},
   "outputs": [
    {
     "data": {
      "text/plain": [
       "['Four', 'To The Power Of ', 'Nine']"
      ]
     },
     "execution_count": 165,
     "metadata": {},
     "output_type": "execute_result"
    }
   ],
   "source": [
    "list(f.values())"
   ]
  },
  {
   "cell_type": "code",
   "execution_count": null,
   "metadata": {},
   "outputs": [],
   "source": [
    "A = [[10 * i + j for j in range(10)] for i in range(500)]"
   ]
  },
  {
   "cell_type": "code",
   "execution_count": 301,
   "metadata": {},
   "outputs": [],
   "source": [
    "def t15(a):\n",
    "    \"\"\"\n",
    "    Найдите сумму элементов на диагоналях\n",
    "\n",
    "    [[ 1, 2, 3 ],\n",
    "    [ 4, 5, 6 ],\n",
    "    [ 7, 8, 9 ]]\n",
    "    Результат: 30\n",
    "    \"\"\"\n",
    "    rows_a = len(a)\n",
    "    cols_a = len(a[0])\n",
    "\n",
    "    t = 0\n",
    "    k = 0\n",
    "    s = [[0 for row in range(cols_a)] for col in range(rows_a)]\n",
    "    for i in range(rows_a):\n",
    "        s[i] = a[i][::-1]\n",
    "\n",
    "\n",
    "    if rows_a >= cols_a:\n",
    "        for i in range(cols_a):\n",
    "            t += a[i][i]\n",
    "            k += s[i][i]\n",
    "\n",
    "\n",
    "\n",
    "    else:\n",
    "        for j in range(rows_a):\n",
    "            t += a[j][j]\n",
    "            k += s[j][j]\n",
    "    return t + k"
   ]
  },
  {
   "cell_type": "code",
   "execution_count": 302,
   "metadata": {},
   "outputs": [
    {
     "data": {
      "text/plain": [
       "13"
      ]
     },
     "execution_count": 302,
     "metadata": {},
     "output_type": "execute_result"
    }
   ],
   "source": [
    "t15([[1,0,0],\n",
    "     [2,3,4],\n",
    "     [4,1,2],\n",
    "     [1,2,2]])"
   ]
  },
  {
   "cell_type": "code",
   "execution_count": 287,
   "metadata": {},
   "outputs": [],
   "source": [
    "a=[[1,2,3,1],\n",
    "   [4,5,6,1],\n",
    "   [7,8,9,1],\n",
    "   [5,2,3,1]]"
   ]
  },
  {
   "cell_type": "code",
   "execution_count": 257,
   "metadata": {},
   "outputs": [],
   "source": [
    "rows_a = len(a)\n",
    "cols_a = len(a[0])"
   ]
  },
  {
   "cell_type": "code",
   "execution_count": 258,
   "metadata": {},
   "outputs": [
    {
     "data": {
      "text/plain": [
       "4"
      ]
     },
     "execution_count": 258,
     "metadata": {},
     "output_type": "execute_result"
    }
   ],
   "source": [
    "rows_a"
   ]
  },
  {
   "cell_type": "code",
   "execution_count": 259,
   "metadata": {},
   "outputs": [
    {
     "name": "stdout",
     "output_type": "stream",
     "text": [
      "0\n",
      "1\n",
      "2\n",
      "3\n"
     ]
    }
   ],
   "source": [
    "for i in range(rows_a):\n",
    "    print (i)"
   ]
  },
  {
   "cell_type": "code",
   "execution_count": 279,
   "metadata": {},
   "outputs": [],
   "source": [
    "s = [[0 for row in range(cols_a)] for col in range(rows_a)]\n",
    "for i in range(rows_a):\n",
    "    s[i]=a[i][::-1]"
   ]
  },
  {
   "cell_type": "code",
   "execution_count": 281,
   "metadata": {},
   "outputs": [
    {
     "data": {
      "text/plain": [
       "[[1, 2, 3, 1], [4, 5, 6, 1], [7, 8, 9, 1], [1, 2, 3, 1]]"
      ]
     },
     "execution_count": 281,
     "metadata": {},
     "output_type": "execute_result"
    }
   ],
   "source": [
    "a"
   ]
  },
  {
   "cell_type": "code",
   "execution_count": 280,
   "metadata": {},
   "outputs": [
    {
     "data": {
      "text/plain": [
       "[[1, 3, 2, 1], [1, 6, 5, 4], [1, 9, 8, 7], [1, 3, 2, 1]]"
      ]
     },
     "execution_count": 280,
     "metadata": {},
     "output_type": "execute_result"
    }
   ],
   "source": [
    "s"
   ]
  },
  {
   "cell_type": "code",
   "execution_count": 273,
   "metadata": {},
   "outputs": [
    {
     "data": {
      "text/plain": [
       "[1, 3, 2, 1]"
      ]
     },
     "execution_count": 273,
     "metadata": {},
     "output_type": "execute_result"
    }
   ],
   "source": [
    "a[0][::-1]"
   ]
  },
  {
   "cell_type": "code",
   "execution_count": 254,
   "metadata": {},
   "outputs": [
    {
     "data": {
      "text/plain": [
       "4"
      ]
     },
     "execution_count": 254,
     "metadata": {},
     "output_type": "execute_result"
    }
   ],
   "source": [
    "rows_a"
   ]
  },
  {
   "cell_type": "code",
   "execution_count": 264,
   "metadata": {},
   "outputs": [
    {
     "data": {
      "text/plain": [
       "[]"
      ]
     },
     "execution_count": 264,
     "metadata": {},
     "output_type": "execute_result"
    }
   ],
   "source": [
    "d"
   ]
  },
  {
   "cell_type": "code",
   "execution_count": 299,
   "metadata": {},
   "outputs": [
    {
     "name": "stdout",
     "output_type": "stream",
     "text": [
      "12\n"
     ]
    }
   ],
   "source": [
    "a=[[1,2,3],\n",
    "   [1,2,3],\n",
    "   [1,2,3],\n",
    "   [1,2,3]]\n",
    "rows_a = len(a)\n",
    "cols_a = len(a[0])\n",
    "\n",
    "t = 0\n",
    "k = 0\n",
    "s = [[0 for row in range(cols_a)] for col in range(rows_a)]\n",
    "for i in range(rows_a):\n",
    "    s[i]=a[i][::-1]\n",
    "\n",
    "\n",
    "if rows_a >= cols_a:\n",
    "    for i in range(cols_a):\n",
    "        t += a[i][i]\n",
    "        k += s[i][i]\n",
    "\n",
    "        \n",
    "        \n",
    "else:\n",
    "    for j in range(rows_a):\n",
    "        t += a[j][j]\n",
    "        k += s[j][j]\n",
    "print (t+k)\n"
   ]
  },
  {
   "cell_type": "code",
   "execution_count": 289,
   "metadata": {},
   "outputs": [
    {
     "data": {
      "text/plain": [
       "20"
      ]
     },
     "execution_count": 289,
     "metadata": {},
     "output_type": "execute_result"
    }
   ],
   "source": [
    "k"
   ]
  },
  {
   "cell_type": "code",
   "execution_count": 218,
   "metadata": {},
   "outputs": [
    {
     "data": {
      "text/plain": [
       "15"
      ]
     },
     "execution_count": 218,
     "metadata": {},
     "output_type": "execute_result"
    }
   ],
   "source": [
    "s"
   ]
  },
  {
   "cell_type": "code",
   "execution_count": null,
   "metadata": {},
   "outputs": [],
   "source": [
    "def t12(lst):\n",
    "    \"\"\"\n",
    "    На вход подается список строк вида `Что-то происходит бла бла бла +7495 123-45-67` содержащие номер телефона.\n",
    "        Используя regex выражения запишите всевозможноые комбинации телефонов, например программа должна корректно\n",
    "        работать с 790112345678 или 890112345678\n",
    "    Вход: [`Что-то происходит бла бла бла +7495 123-45-67`]\n",
    "    Выход: [`84951234567`]\n",
    "\n",
    "    \"\"\"\n",
    "    pass"
   ]
  },
  {
   "cell_type": "code",
   "execution_count": 374,
   "metadata": {},
   "outputs": [],
   "source": [
    "def t11(a):\n",
    "    \"\"\"\n",
    "    Вам дам список из целых чисел. Найдите индекс числа такого, что левая и правая части списка от него равны\n",
    "        Если такого элемента нет - верните -1. Если вы нашли два элемента -> верните тот, который левее.\n",
    "    [1,2,3,5,3,2,1] = 3\n",
    "    [1,12,3,3,6,3,1] = 2\n",
    "    [10,20,30,40] = -1\n",
    "    \"\"\"\n",
    "    s = a[::-1]\n",
    "    d = {}\n",
    "\n",
    "    for i in range(1,len(a) - 1):\n",
    "        x = 0\n",
    "        y = 0\n",
    "        for k in a[:i]:\n",
    "            for t in a[i + 1:]:\n",
    "                x += k\n",
    "                y += t\n",
    "                if x == y:\n",
    "                    d[i] = i\n",
    "\n",
    "    if d == {}:\n",
    "        return -1\n",
    "    else:\n",
    "        return list(d.values())[0]"
   ]
  },
  {
   "cell_type": "code",
   "execution_count": 378,
   "metadata": {},
   "outputs": [
    {
     "data": {
      "text/plain": [
       "3"
      ]
     },
     "execution_count": 378,
     "metadata": {},
     "output_type": "execute_result"
    }
   ],
   "source": [
    "t11([1,2,2,4,2,2,1])"
   ]
  },
  {
   "cell_type": "code",
   "execution_count": 325,
   "metadata": {},
   "outputs": [],
   "source": [
    "a=[1,2,3,5,3,2,9]"
   ]
  },
  {
   "cell_type": "code",
   "execution_count": 332,
   "metadata": {},
   "outputs": [
    {
     "data": {
      "text/plain": [
       "[9, 2, 3, 5, 3, 2, 1]"
      ]
     },
     "execution_count": 332,
     "metadata": {},
     "output_type": "execute_result"
    }
   ],
   "source": [
    "a[::-1]"
   ]
  },
  {
   "cell_type": "code",
   "execution_count": 322,
   "metadata": {},
   "outputs": [],
   "source": [
    "s = a[::-1]\n",
    "for i in range(len(a)):\n",
    "    k = s[i]\n",
    "    b = a[i]"
   ]
  },
  {
   "cell_type": "code",
   "execution_count": 323,
   "metadata": {},
   "outputs": [
    {
     "data": {
      "text/plain": [
       "1"
      ]
     },
     "execution_count": 323,
     "metadata": {},
     "output_type": "execute_result"
    }
   ],
   "source": [
    "k"
   ]
  },
  {
   "cell_type": "code",
   "execution_count": 373,
   "metadata": {},
   "outputs": [
    {
     "name": "stdout",
     "output_type": "stream",
     "text": [
      "-1\n"
     ]
    }
   ],
   "source": [
    "a=[10,20,30,40]\n",
    "s = a[::-1]\n",
    "d={}\n",
    "\n",
    "for i in range(1,len(a)-1):\n",
    "    x=0\n",
    "    y=0\n",
    "    for k in a[:i]:\n",
    "        for t in a[i + 1:]:\n",
    "            x += k\n",
    "            y += t\n",
    "            if x == y:\n",
    "                d[i] = i\n",
    "                \n",
    "if d == {}:\n",
    "    print (-1)\n",
    "else:\n",
    "    print (list(d.values())[0])\n",
    "        \n",
    "            \n",
    "\n"
   ]
  },
  {
   "cell_type": "code",
   "execution_count": 365,
   "metadata": {},
   "outputs": [
    {
     "data": {
      "text/plain": [
       "{3: 3, 4: 4, 5: 5}"
      ]
     },
     "execution_count": 365,
     "metadata": {},
     "output_type": "execute_result"
    }
   ],
   "source": [
    "d"
   ]
  },
  {
   "cell_type": "code",
   "execution_count": 362,
   "metadata": {},
   "outputs": [
    {
     "data": {
      "text/plain": [
       "[3, 2, 1]"
      ]
     },
     "execution_count": 362,
     "metadata": {},
     "output_type": "execute_result"
    }
   ],
   "source": [
    "a[4:]"
   ]
  },
  {
   "cell_type": "code",
   "execution_count": null,
   "metadata": {},
   "outputs": [],
   "source": [
    "\n",
    "for k in a[:3]:\n",
    "    for t in a[4:]:\n",
    "        x += k\n",
    "        y += t"
   ]
  },
  {
   "cell_type": "code",
   "execution_count": 339,
   "metadata": {},
   "outputs": [
    {
     "data": {
      "text/plain": [
       "2"
      ]
     },
     "execution_count": 339,
     "metadata": {},
     "output_type": "execute_result"
    }
   ],
   "source": [
    "list(x.values())[0]"
   ]
  },
  {
   "cell_type": "code",
   "execution_count": 337,
   "metadata": {},
   "outputs": [
    {
     "data": {
      "text/plain": [
       "{1: 2, 2: 3, 3: 5, 4: 3, 5: 2}"
      ]
     },
     "execution_count": 337,
     "metadata": {},
     "output_type": "execute_result"
    }
   ],
   "source": [
    "x"
   ]
  },
  {
   "cell_type": "code",
   "execution_count": 313,
   "metadata": {},
   "outputs": [
    {
     "data": {
      "text/plain": [
       "[1, 2, 3, 5, 3, 2, 1]"
      ]
     },
     "execution_count": 313,
     "metadata": {},
     "output_type": "execute_result"
    }
   ],
   "source": [
    "s"
   ]
  },
  {
   "cell_type": "code",
   "execution_count": 314,
   "metadata": {},
   "outputs": [
    {
     "data": {
      "text/plain": [
       "[1, 2, 3, 5, 3, 2, 1]"
      ]
     },
     "execution_count": 314,
     "metadata": {},
     "output_type": "execute_result"
    }
   ],
   "source": [
    "a\n"
   ]
  },
  {
   "cell_type": "code",
   "execution_count": 431,
   "metadata": {},
   "outputs": [],
   "source": [
    "def t6(s):\n",
    "    \"\"\"\n",
    "    Предположим у вас есть строки содержащие `#` символ, который означает backspace (удаление предыдущего) обработаете\n",
    "        такие строки\n",
    "\n",
    "    \"abc#d##c\"      ==>  \"ac\"\n",
    "    \"abc##d######\"  ==>  \"\"\n",
    "    \"#######\"       ==>  \"\"\n",
    "    \"\"              ==>  \"\"\n",
    "    \"\"\"\n",
    "    for j in s:\n",
    "        if j=='#':\n",
    "            s.find('#')\n",
    "            s = s[:s.find('#')-1]+s[s.find('#')+1:]\n",
    "    s=s.replace('#','')\n",
    "    return s"
   ]
  },
  {
   "cell_type": "code",
   "execution_count": 432,
   "metadata": {},
   "outputs": [
    {
     "data": {
      "text/plain": [
       "'ac'"
      ]
     },
     "execution_count": 432,
     "metadata": {},
     "output_type": "execute_result"
    }
   ],
   "source": [
    "t6('abc#d##c')"
   ]
  },
  {
   "cell_type": "code",
   "execution_count": 386,
   "metadata": {},
   "outputs": [],
   "source": [
    "s1=s.split('#')"
   ]
  },
  {
   "cell_type": "code",
   "execution_count": 422,
   "metadata": {},
   "outputs": [],
   "source": [
    "for j in s:\n",
    "    if '#' in s:\n",
    "        s.find('#')\n",
    "        s = s[:s.find('#')-1]+s[s.find('#')+1:]\n",
    "s=s.replace('#','')"
   ]
  },
  {
   "cell_type": "code",
   "execution_count": 423,
   "metadata": {},
   "outputs": [
    {
     "data": {
      "text/plain": [
       "''"
      ]
     },
     "execution_count": 423,
     "metadata": {},
     "output_type": "execute_result"
    }
   ],
   "source": [
    "s"
   ]
  },
  {
   "cell_type": "code",
   "execution_count": null,
   "metadata": {},
   "outputs": [],
   "source": [
    "for i in range(len(s1)):\n",
    "    s1[i]\n",
    "    "
   ]
  },
  {
   "cell_type": "code",
   "execution_count": 384,
   "metadata": {},
   "outputs": [],
   "source": [
    "for j in range(len(s)-1):\n",
    "    for i in s:\n",
    "        if i == '#':\n",
    "            s2 = s[:j]+s[:j+1]"
   ]
  },
  {
   "cell_type": "code",
   "execution_count": 385,
   "metadata": {},
   "outputs": [
    {
     "data": {
      "text/plain": [
       "'abc#d#abc#d##'"
      ]
     },
     "execution_count": 385,
     "metadata": {},
     "output_type": "execute_result"
    }
   ],
   "source": [
    "s2"
   ]
  },
  {
   "cell_type": "code",
   "execution_count": 454,
   "metadata": {},
   "outputs": [],
   "source": [
    "def t7(s):\n",
    "    \"\"\"\n",
    "    На вход подается список элементов, найдите сумму уникальных элементов списка.\n",
    "\n",
    "    Например: [4,5,7,5,4,8] -> 15 потому что 7 и 8 уникальны\n",
    "    \"\"\"\n",
    "    d={}\n",
    "    i=0\n",
    "    for j in s:\n",
    "        if j in d:\n",
    "            d[j] += 1\n",
    "\n",
    "        else:\n",
    "            d[j] = 1\n",
    "    k=0\n",
    "    for f in d.keys():\n",
    "        if d[f]<2:\n",
    "            k += f\n",
    "    return k"
   ]
  },
  {
   "cell_type": "code",
   "execution_count": 457,
   "metadata": {},
   "outputs": [
    {
     "data": {
      "text/plain": [
       "14"
      ]
     },
     "execution_count": 457,
     "metadata": {},
     "output_type": "execute_result"
    }
   ],
   "source": [
    "t7([4,5,7,5,4,6,1])"
   ]
  },
  {
   "cell_type": "code",
   "execution_count": 443,
   "metadata": {},
   "outputs": [],
   "source": [
    "d={}\n",
    "i=0\n",
    "for j in s:\n",
    "    if j in d:\n",
    "        d[j] += 1\n",
    "        \n",
    "    else:\n",
    "        d[j] = 1\n",
    "    "
   ]
  },
  {
   "cell_type": "code",
   "execution_count": 445,
   "metadata": {},
   "outputs": [
    {
     "ename": "TypeError",
     "evalue": "'<' not supported between instances of 'dict_values' and 'int'",
     "output_type": "error",
     "traceback": [
      "\u001b[1;31m---------------------------------------------------------------------------\u001b[0m",
      "\u001b[1;31mTypeError\u001b[0m                                 Traceback (most recent call last)",
      "\u001b[1;32m<ipython-input-445-5d6a2e9ecbbd>\u001b[0m in \u001b[0;36m<module>\u001b[1;34m\u001b[0m\n\u001b[1;32m----> 1\u001b[1;33m \u001b[0md\u001b[0m\u001b[1;33m.\u001b[0m\u001b[0mvalues\u001b[0m\u001b[1;33m(\u001b[0m\u001b[1;33m)\u001b[0m\u001b[1;33m<\u001b[0m\u001b[1;36m2\u001b[0m\u001b[1;33m\u001b[0m\u001b[1;33m\u001b[0m\u001b[0m\n\u001b[0m",
      "\u001b[1;31mTypeError\u001b[0m: '<' not supported between instances of 'dict_values' and 'int'"
     ]
    }
   ],
   "source": [
    "d.values()<2\n"
   ]
  },
  {
   "cell_type": "code",
   "execution_count": 451,
   "metadata": {},
   "outputs": [],
   "source": [
    "k=0\n",
    "for f in d.keys():\n",
    "    if d[f]<2:\n",
    "        k += f"
   ]
  },
  {
   "cell_type": "code",
   "execution_count": 452,
   "metadata": {},
   "outputs": [
    {
     "data": {
      "text/plain": [
       "15"
      ]
     },
     "execution_count": 452,
     "metadata": {},
     "output_type": "execute_result"
    }
   ],
   "source": [
    "k"
   ]
  },
  {
   "cell_type": "code",
   "execution_count": null,
   "metadata": {},
   "outputs": [],
   "source": [
    "def t9(number):\n",
    "    \"\"\"\n",
    "    Приведите число number к пятизначному виду.\n",
    "\n",
    "    Т.е. для числа 5 верните `00005`\n",
    "    \"\"\"\n",
    "    if len(str(number)) < 5:\n",
    "        s = 5 - len(str(number))\n",
    "        return '0'*s+str(number)\n",
    "    elif len(str(number)) > 5:\n",
    "        s=len(str(number))-5\n",
    "        return number/10**s\n",
    "    else:\n",
    "        return number"
   ]
  },
  {
   "cell_type": "code",
   "execution_count": 5,
   "metadata": {},
   "outputs": [],
   "source": [
    "a=56666666"
   ]
  },
  {
   "cell_type": "code",
   "execution_count": 7,
   "metadata": {},
   "outputs": [
    {
     "name": "stdout",
     "output_type": "stream",
     "text": [
      "56666.666\n"
     ]
    }
   ],
   "source": [
    "if len(str(a)) < 5:\n",
    "    s = 5 - len(str(a))\n",
    "    print ('0'*s+str(a))\n",
    "elif len(str(a)) > 5:\n",
    "    s=len(str(a))-5\n",
    "    print (a/10**s)\n",
    "else:\n",
    "    print (a)"
   ]
  },
  {
   "cell_type": "code",
   "execution_count": null,
   "metadata": {},
   "outputs": [],
   "source": [
    "def t10(string):\n",
    "    \"\"\"\n",
    "    Произведите смешивание цветов. Вам будет дана строка, необходимо смешать все пары цветов и вернуть результируюший\n",
    "        цвет\n",
    "\n",
    "    Комбинации цветов:    G G     B G    R G   B R\n",
    "    Результирующий цвет:   G       R      B     G\n",
    "\n",
    "    R R G B R G B B  <- ввод\n",
    "     R B R G B R B\n",
    "      G G B R G G\n",
    "       G R G B G\n",
    "        B B R R\n",
    "         B G R\n",
    "          R B\n",
    "           G  <-- вывод\n",
    "\n",
    "    \"\"\"\n",
    "    pass"
   ]
  },
  {
   "cell_type": "code",
   "execution_count": null,
   "metadata": {},
   "outputs": [],
   "source": [
    "mydict={'GG':'G','BG':'R','GB':'R','RG':'B','GR':'B','BR':'G','RB':'G','BB':'B','RR':'R'}"
   ]
  },
  {
   "cell_type": "code",
   "execution_count": 35,
   "metadata": {},
   "outputs": [],
   "source": [
    "string = 'R R G B R G B B'"
   ]
  },
  {
   "cell_type": "code",
   "execution_count": 36,
   "metadata": {},
   "outputs": [],
   "source": [
    "s = string.split(' ')"
   ]
  },
  {
   "cell_type": "code",
   "execution_count": 37,
   "metadata": {},
   "outputs": [
    {
     "data": {
      "text/plain": [
       "['R', 'R', 'G', 'B', 'R', 'G', 'B', 'B']"
      ]
     },
     "execution_count": 37,
     "metadata": {},
     "output_type": "execute_result"
    }
   ],
   "source": [
    "s"
   ]
  },
  {
   "cell_type": "code",
   "execution_count": null,
   "metadata": {},
   "outputs": [],
   "source": [
    "string = 'R R G B R G B B'\n",
    "s = string.split(' ')\n",
    "d = {}\n",
    "while len(s) != 1:\n",
    "    for i in range(len(s)-1):\n",
    "        d[i] = mydict.get(''.join([s[i],s[i+1]]))\n",
    "    s = list(d.values())\n",
    "    \n",
    "  \n",
    "    "
   ]
  },
  {
   "cell_type": "code",
   "execution_count": 48,
   "metadata": {},
   "outputs": [
    {
     "data": {
      "text/plain": [
       "['R', 'B', 'R', 'G', 'B', 'R', 'B']"
      ]
     },
     "execution_count": 48,
     "metadata": {},
     "output_type": "execute_result"
    }
   ],
   "source": [
    "s"
   ]
  },
  {
   "cell_type": "code",
   "execution_count": 14,
   "metadata": {},
   "outputs": [
    {
     "data": {
      "text/plain": [
       "'RR'"
      ]
     },
     "execution_count": 14,
     "metadata": {},
     "output_type": "execute_result"
    }
   ],
   "source": [
    "string[:2]"
   ]
  },
  {
   "cell_type": "code",
   "execution_count": 23,
   "metadata": {},
   "outputs": [
    {
     "data": {
      "text/plain": [
       "'R'"
      ]
     },
     "execution_count": 23,
     "metadata": {},
     "output_type": "execute_result"
    }
   ],
   "source": [
    "mydict.get(string[:2])"
   ]
  },
  {
   "cell_type": "code",
   "execution_count": 17,
   "metadata": {},
   "outputs": [],
   "source": [
    "x = [1, 2, 3]"
   ]
  },
  {
   "cell_type": "code",
   "execution_count": 16,
   "metadata": {},
   "outputs": [
    {
     "data": {
      "text/plain": [
       "2"
      ]
     },
     "execution_count": 16,
     "metadata": {},
     "output_type": "execute_result"
    }
   ],
   "source": [
    "x.pop()"
   ]
  },
  {
   "cell_type": "code",
   "execution_count": 40,
   "metadata": {},
   "outputs": [],
   "source": [
    "s=''\n",
    "a=len(string)\n",
    "for i in range(a-2):\n",
    "    k=string\n",
    "    t=k[:i+2]\n",
    "    s+=mydict.get(str(t))\n",
    "    k=k[i:]"
   ]
  },
  {
   "cell_type": "code",
   "execution_count": 41,
   "metadata": {},
   "outputs": [
    {
     "data": {
      "text/plain": [
       "''"
      ]
     },
     "execution_count": 41,
     "metadata": {},
     "output_type": "execute_result"
    }
   ],
   "source": [
    "\n",
    "s"
   ]
  },
  {
   "cell_type": "code",
   "execution_count": 42,
   "metadata": {},
   "outputs": [
    {
     "data": {
      "text/plain": [
       "0"
      ]
     },
     "execution_count": 42,
     "metadata": {},
     "output_type": "execute_result"
    }
   ],
   "source": [
    "a"
   ]
  }
 ],
 "metadata": {
  "kernelspec": {
   "display_name": "Python 3",
   "language": "python",
   "name": "python3"
  },
  "language_info": {
   "codemirror_mode": {
    "name": "ipython",
    "version": 3
   },
   "file_extension": ".py",
   "mimetype": "text/x-python",
   "name": "python",
   "nbconvert_exporter": "python",
   "pygments_lexer": "ipython3",
   "version": "3.7.1"
  }
 },
 "nbformat": 4,
 "nbformat_minor": 2
}
