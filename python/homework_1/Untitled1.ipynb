{
 "cells": [
  {
   "cell_type": "code",
   "execution_count": null,
   "metadata": {},
   "outputs": [],
   "source": [
    "def t4(string, sub_string):\n",
    "    \"\"\"\n",
    "    проверить есть ли в строке инвертированная подстрока\n",
    "    \"\"\"\n",
    "    if sub_string[::-1] in string:\n",
    "        return True\n",
    "    else:\n",
    "        return False"
   ]
  },
  {
   "cell_type": "code",
   "execution_count": null,
   "metadata": {},
   "outputs": [],
   "source": [
    "string = 'abcd'"
   ]
  },
  {
   "cell_type": "code",
   "execution_count": null,
   "metadata": {},
   "outputs": [],
   "source": [
    "pytest tests\\test_tasks.py -s"
   ]
  },
  {
   "cell_type": "code",
   "execution_count": 41,
   "metadata": {},
   "outputs": [],
   "source": [
    "def t5(strings):\n",
    "    \"\"\"\n",
    "    На вход подается список строк,\n",
    "    Отфильтруйте список строк, оставив только строки в формате: `x y z x*y*z`, где x,y,z - целые положительные числа\n",
    "    \"\"\"\n",
    "        b = {}\n",
    "        for i in range(len(strings)):\n",
    "            s=strings[i].split(' ')\n",
    "            if int(s[3]) == int(s[0])*int(s[1])*int(s[2]):\n",
    "                b[i] = strings[i]\n",
    "        return list(b.values())"
   ]
  },
  {
   "cell_type": "code",
   "execution_count": 42,
   "metadata": {},
   "outputs": [
    {
     "data": {
      "text/plain": [
       "['1 2 3 6', '0 5 1 0']"
      ]
     },
     "execution_count": 42,
     "metadata": {},
     "output_type": "execute_result"
    }
   ],
   "source": [
    "t5(strings)"
   ]
  },
  {
   "cell_type": "code",
   "execution_count": 36,
   "metadata": {},
   "outputs": [],
   "source": [
    "b = {}\n",
    "for i in range(len(strings)):\n",
    "    s=strings[i].split(' ')\n",
    "    if int(s[3]) == int(s[0])*int(s[1])*int(s[2]):\n",
    "        b[i] = strings[i]"
   ]
  },
  {
   "cell_type": "code",
   "execution_count": 40,
   "metadata": {},
   "outputs": [
    {
     "data": {
      "text/plain": [
       "['1 2 3 6', '0 5 1 0']"
      ]
     },
     "execution_count": 40,
     "metadata": {},
     "output_type": "execute_result"
    }
   ],
   "source": [
    "list(b.values())"
   ]
  },
  {
   "cell_type": "code",
   "execution_count": 30,
   "metadata": {},
   "outputs": [
    {
     "data": {
      "text/plain": [
       "'0 5 1 0'"
      ]
     },
     "execution_count": 30,
     "metadata": {},
     "output_type": "execute_result"
    }
   ],
   "source": [
    "strings[1]"
   ]
  },
  {
   "cell_type": "code",
   "execution_count": 26,
   "metadata": {},
   "outputs": [],
   "source": [
    "strings = [\"1 2 3 6\", \"0 5 1 0\", \"1 1 1 2\", \"1 1 0 1\"]"
   ]
  },
  {
   "cell_type": "code",
   "execution_count": 8,
   "metadata": {},
   "outputs": [
    {
     "data": {
      "text/plain": [
       "['1', '2', '3', '6']"
      ]
     },
     "execution_count": 8,
     "metadata": {},
     "output_type": "execute_result"
    }
   ],
   "source": [
    "k=strings[0].split(' ')\n",
    "k"
   ]
  },
  {
   "cell_type": "code",
   "execution_count": 14,
   "metadata": {},
   "outputs": [
    {
     "data": {
      "text/plain": [
       "1"
      ]
     },
     "execution_count": 14,
     "metadata": {},
     "output_type": "execute_result"
    }
   ],
   "source": [
    "int(k[0])"
   ]
  },
  {
   "cell_type": "code",
   "execution_count": null,
   "metadata": {},
   "outputs": [],
   "source": []
  },
  {
   "cell_type": "code",
   "execution_count": 1,
   "metadata": {},
   "outputs": [],
   "source": [
    "mydict={'GG':'G','BG':'R','GB':'R','RG':'B','GR':'B','BR':'G','RB':'G','BB':'B','RR':'R'}"
   ]
  },
  {
   "cell_type": "code",
   "execution_count": null,
   "metadata": {},
   "outputs": [],
   "source": [
    "string = 'R R G B R G B B'\n",
    "s = string.split(' ')\n",
    "d = {}\n",
    "while len(s) != 1:\n",
    "    for i in range(len(s)-1):\n",
    "        d[i] = mydict.get(''.join([s[i],s[i+1]]))\n",
    "    s = list(d.values())"
   ]
  },
  {
   "cell_type": "code",
   "execution_count": null,
   "metadata": {},
   "outputs": [],
   "source": []
  },
  {
   "cell_type": "code",
   "execution_count": 51,
   "metadata": {},
   "outputs": [],
   "source": [
    "import re\n",
    "def t8(string):\n",
    "    \"\"\"\n",
    "    Найдите все последовательности числев в строке и среди них найдите максимальное число\n",
    "\n",
    "    gh12cdy695m1 -> 695\n",
    "    \"\"\"\n",
    "    s=re.findall(r'\\d+', string)\n",
    "    for i in range(len(s)):\n",
    "        s[i] = int(s[i])\n",
    "    return max(s)"
   ]
  },
  {
   "cell_type": "code",
   "execution_count": 52,
   "metadata": {},
   "outputs": [
    {
     "data": {
      "text/plain": [
       "695"
      ]
     },
     "execution_count": 52,
     "metadata": {},
     "output_type": "execute_result"
    }
   ],
   "source": [
    "t8('gh12cdy695m1')"
   ]
  },
  {
   "cell_type": "code",
   "execution_count": 48,
   "metadata": {},
   "outputs": [],
   "source": [
    "import re\n",
    "s=re.findall(r'\\d+', string)\n",
    "for i in range(len(s)):\n",
    "    s[i] = int(s[i])\n"
   ]
  },
  {
   "cell_type": "code",
   "execution_count": 50,
   "metadata": {},
   "outputs": [
    {
     "data": {
      "text/plain": [
       "695"
      ]
     },
     "execution_count": 50,
     "metadata": {},
     "output_type": "execute_result"
    }
   ],
   "source": [
    "max(s)"
   ]
  },
  {
   "cell_type": "code",
   "execution_count": 43,
   "metadata": {},
   "outputs": [],
   "source": [
    "string = 'gh12cdy695m1'"
   ]
  },
  {
   "cell_type": "code",
   "execution_count": 46,
   "metadata": {},
   "outputs": [
    {
     "ename": "TypeError",
     "evalue": "int() argument must be a string, a bytes-like object or a number, not 'list'",
     "output_type": "error",
     "traceback": [
      "\u001b[1;31m---------------------------------------------------------------------------\u001b[0m",
      "\u001b[1;31mTypeError\u001b[0m                                 Traceback (most recent call last)",
      "\u001b[1;32m<ipython-input-46-2c4720ab420a>\u001b[0m in \u001b[0;36m<module>\u001b[1;34m\u001b[0m\n\u001b[1;32m----> 1\u001b[1;33m \u001b[0mint\u001b[0m\u001b[1;33m(\u001b[0m\u001b[0ms\u001b[0m\u001b[1;33m)\u001b[0m\u001b[1;33m\u001b[0m\u001b[1;33m\u001b[0m\u001b[0m\n\u001b[0m",
      "\u001b[1;31mTypeError\u001b[0m: int() argument must be a string, a bytes-like object or a number, not 'list'"
     ]
    }
   ],
   "source": []
  },
  {
   "cell_type": "code",
   "execution_count": 140,
   "metadata": {},
   "outputs": [],
   "source": [
    "def t12(lst):\n",
    "    \"\"\"\n",
    "    На вход подается список строк вида `Что-то происходит бла бла бла +7495 123-45-67` содержащие номер телефона.\n",
    "        Используя regex выражения запишите всевозможноые комбинации телефонов, например программа должна корректно\n",
    "        работать с 790112345678 или 890112345678\n",
    "    Вход: [`Что-то происходит бла бла бла +7495 123-45-67`]\n",
    "    Выход: [`84951234567`]\n",
    " \"input\":  [\"Что-то происходит бла бла бла +7495 123-45-67\", \"Звони 8 495 123-45-67 мне\", \"По вопросам рекламы +7(499)123-45-67\"],\n",
    "      \"output\": [\"84951234567\", \"84951234567\", \"84991234567\"]\n",
    "    }\n",
    "    \"\"\"\n",
    "    import re\n",
    "    s = {}\n",
    "    for i in range(len(lst)):\n",
    "        s[i] = re.findall(r'\\d+', lst[i])\n",
    "    r = list(s.values())\n",
    "    t = {}\n",
    "    o = ''\n",
    "    for j in range(len(r)):\n",
    "        for i in r[j]:\n",
    "            o += i\n",
    "            t[j] = o\n",
    "        o = ''\n",
    "    v = {}\n",
    "    for m in range(len(list(t.values()))):\n",
    "        if list(t.values())[m][0] == '7':\n",
    "            v[m] = '8' + list(t.values())[m][1:]\n",
    "        else:\n",
    "            v[m] = list(t.values())[m]\n",
    "    \n",
    "    return list(v.values())\n",
    "    \n",
    "    \n",
    "    \n",
    "    \n",
    "    \n",
    "    "
   ]
  },
  {
   "cell_type": "code",
   "execution_count": 139,
   "metadata": {},
   "outputs": [],
   "source": [
    "a =  [\"Что-то происходит бла бла бла +7495 123-45-67\", \"Звони 8 495 123-77-67 мне\", \"По вопросам рекламы +7(499)123-45-67\"]"
   ]
  },
  {
   "cell_type": "code",
   "execution_count": 141,
   "metadata": {},
   "outputs": [
    {
     "data": {
      "text/plain": [
       "['84951234567', '84951237767', '84991234567']"
      ]
     },
     "execution_count": 141,
     "metadata": {},
     "output_type": "execute_result"
    }
   ],
   "source": [
    "t12(a)"
   ]
  },
  {
   "cell_type": "code",
   "execution_count": 136,
   "metadata": {},
   "outputs": [],
   "source": [
    "import re\n",
    "s = {}\n",
    "for i in range(len(a)):\n",
    "    s[i] = re.findall(r'\\d+', a[i])\n"
   ]
  },
  {
   "cell_type": "code",
   "execution_count": null,
   "metadata": {},
   "outputs": [],
   "source": [
    "s=re.findall(r'\\d+', string)"
   ]
  },
  {
   "cell_type": "code",
   "execution_count": 137,
   "metadata": {},
   "outputs": [
    {
     "data": {
      "text/plain": [
       "{0: ['7495', '123', '45', '67'],\n",
       " 1: ['8', '495', '123', '77', '67'],\n",
       " 2: ['7', '499', '123', '45', '67']}"
      ]
     },
     "execution_count": 137,
     "metadata": {},
     "output_type": "execute_result"
    }
   ],
   "source": [
    "s"
   ]
  },
  {
   "cell_type": "code",
   "execution_count": 73,
   "metadata": {},
   "outputs": [
    {
     "data": {
      "text/plain": [
       "[['7495', '123', '45', '67'],\n",
       " ['8', '495', '123', '77', '67'],\n",
       " ['7', '499', '123', '45', '67']]"
      ]
     },
     "execution_count": 73,
     "metadata": {},
     "output_type": "execute_result"
    }
   ],
   "source": [
    "list(s.values())"
   ]
  },
  {
   "cell_type": "code",
   "execution_count": 102,
   "metadata": {},
   "outputs": [],
   "source": [
    "r = list(s.values())"
   ]
  },
  {
   "cell_type": "code",
   "execution_count": 106,
   "metadata": {},
   "outputs": [],
   "source": [
    "f = ''\n",
    "r[0]\n",
    "for i in r[0]:\n",
    "    f += i"
   ]
  },
  {
   "cell_type": "code",
   "execution_count": 107,
   "metadata": {},
   "outputs": [
    {
     "data": {
      "text/plain": [
       "'74951234567'"
      ]
     },
     "execution_count": 107,
     "metadata": {},
     "output_type": "execute_result"
    }
   ],
   "source": [
    "f"
   ]
  },
  {
   "cell_type": "code",
   "execution_count": 115,
   "metadata": {},
   "outputs": [],
   "source": [
    "t = {}\n",
    "o = ''\n",
    "for j in range(len(r)):\n",
    "    for i in r[j]:\n",
    "        o += i\n",
    "        t[j] = o\n",
    "    o = ''  "
   ]
  },
  {
   "cell_type": "code",
   "execution_count": 116,
   "metadata": {},
   "outputs": [
    {
     "data": {
      "text/plain": [
       "{0: '74951234567', 1: '84951237767', 2: '74991234567'}"
      ]
     },
     "execution_count": 116,
     "metadata": {},
     "output_type": "execute_result"
    }
   ],
   "source": [
    "t"
   ]
  },
  {
   "cell_type": "code",
   "execution_count": 129,
   "metadata": {},
   "outputs": [],
   "source": [
    "if list(t.values())[0][0] == '7':\n",
    "    list(t.values())[0] = '8' + list(t.values())[0][1:]"
   ]
  },
  {
   "cell_type": "code",
   "execution_count": 130,
   "metadata": {},
   "outputs": [
    {
     "data": {
      "text/plain": [
       "['74951234567', '84951237767', '74991234567']"
      ]
     },
     "execution_count": 130,
     "metadata": {},
     "output_type": "execute_result"
    }
   ],
   "source": [
    "list(t.values())"
   ]
  },
  {
   "cell_type": "code",
   "execution_count": 134,
   "metadata": {},
   "outputs": [],
   "source": [
    "v = {}\n",
    "for m in range(len(list(t.values()))):\n",
    "    if list(t.values())[m][0] == '7':\n",
    "        v[m] = '8' + list(t.values())[m][1:]\n",
    "    else:\n",
    "        v[m] = list(t.values())[m]"
   ]
  },
  {
   "cell_type": "code",
   "execution_count": 135,
   "metadata": {},
   "outputs": [
    {
     "data": {
      "text/plain": [
       "{0: '84951234567', 1: '84951237767', 2: '84991234567'}"
      ]
     },
     "execution_count": 135,
     "metadata": {},
     "output_type": "execute_result"
    }
   ],
   "source": [
    "v"
   ]
  },
  {
   "cell_type": "code",
   "execution_count": null,
   "metadata": {},
   "outputs": [],
   "source": []
  },
  {
   "cell_type": "code",
   "execution_count": null,
   "metadata": {},
   "outputs": [],
   "source": []
  },
  {
   "cell_type": "code",
   "execution_count": null,
   "metadata": {},
   "outputs": [],
   "source": []
  },
  {
   "cell_type": "code",
   "execution_count": null,
   "metadata": {},
   "outputs": [],
   "source": []
  },
  {
   "cell_type": "code",
   "execution_count": 73,
   "metadata": {},
   "outputs": [],
   "source": [
    "def t10(string):\n",
    "    \"\"\"\n",
    "    Произведите смешивание цветов. Вам будет дана строка, необходимо смешать все пары цветов и вернуть результируюший\n",
    "        цвет\n",
    "\n",
    "    Комбинации цветов:    G G     B G    R G   B R\n",
    "    Результирующий цвет:   G       R      B     G\n",
    "\n",
    "    R R G B R G B B  <- ввод\n",
    "     R B R G B R B\n",
    "      G G B R G G\n",
    "       G R G B G\n",
    "        B B R R\n",
    "         B G R\n",
    "          R B\n",
    "           G  <-- вывод\n",
    "\n",
    "    \"\"\"\n",
    "    s = ''\n",
    "    for t in string:\n",
    "        s += t + ' '\n",
    "    s = s[:len(s)-1].split(' ')\n",
    "    d = {}\n",
    "    while len(s) != 1:\n",
    "        for i in range(len(s)-1):\n",
    "            d[i] = mydict.get(''.join([s[i],s[i+1]]))\n",
    "        s = list(d.values())\n",
    "        d = {}\n",
    "    return s[0]"
   ]
  },
  {
   "cell_type": "code",
   "execution_count": 74,
   "metadata": {},
   "outputs": [
    {
     "data": {
      "text/plain": [
       "'R'"
      ]
     },
     "execution_count": 74,
     "metadata": {},
     "output_type": "execute_result"
    }
   ],
   "source": [
    "t10('GB')"
   ]
  },
  {
   "cell_type": "code",
   "execution_count": 66,
   "metadata": {},
   "outputs": [],
   "source": [
    "s='GB'"
   ]
  },
  {
   "cell_type": "code",
   "execution_count": 69,
   "metadata": {},
   "outputs": [],
   "source": [
    "s = ''\n",
    "for t in string:\n",
    "    s += t + ' '"
   ]
  },
  {
   "cell_type": "code",
   "execution_count": 72,
   "metadata": {},
   "outputs": [
    {
     "data": {
      "text/plain": [
       "['G', 'B']"
      ]
     },
     "execution_count": 72,
     "metadata": {},
     "output_type": "execute_result"
    }
   ],
   "source": [
    "y[:len(y)-1].split(' ')"
   ]
  },
  {
   "cell_type": "code",
   "execution_count": 47,
   "metadata": {},
   "outputs": [],
   "source": [
    "mydict={'GG':'G','BG':'R','GB':'R','RG':'B','GR':'B','BR':'G','RB':'G','BB':'B','RR':'R'}"
   ]
  },
  {
   "cell_type": "code",
   "execution_count": null,
   "metadata": {},
   "outputs": [],
   "source": [
    "string = 'R R G B R G B B'\n",
    "s = string.split(' ')\n",
    "d = {}\n",
    "while len(s) != 1:\n",
    "    for i in range(len(s)-1):\n",
    "        d[i] = mydict.get(''.join([s[i],s[i+1]]))\n",
    "    s = list(d.values())"
   ]
  },
  {
   "cell_type": "code",
   "execution_count": 51,
   "metadata": {},
   "outputs": [
    {
     "data": {
      "text/plain": [
       "['R', 'R', 'G', 'B', 'R', 'G', 'B', 'B']"
      ]
     },
     "execution_count": 51,
     "metadata": {},
     "output_type": "execute_result"
    }
   ],
   "source": [
    "string = 'R R G B R G B B'\n",
    "s = string.split(' ')\n",
    "s"
   ]
  },
  {
   "cell_type": "code",
   "execution_count": 52,
   "metadata": {},
   "outputs": [],
   "source": [
    "d = {}\n",
    "while len(s) != 1:\n",
    "    for i in range(len(s)-1):\n",
    "        d[i] = mydict.get(''.join([s[i],s[i+1]]))\n",
    "    s = list(d.values())\n",
    "    d = {}"
   ]
  },
  {
   "cell_type": "code",
   "execution_count": 54,
   "metadata": {},
   "outputs": [
    {
     "data": {
      "text/plain": [
       "'G'"
      ]
     },
     "execution_count": 54,
     "metadata": {},
     "output_type": "execute_result"
    }
   ],
   "source": [
    "s[0]"
   ]
  },
  {
   "cell_type": "code",
   "execution_count": 43,
   "metadata": {},
   "outputs": [],
   "source": [
    "string = 'R R G B R G B B'"
   ]
  },
  {
   "cell_type": "code",
   "execution_count": 44,
   "metadata": {},
   "outputs": [],
   "source": [
    "s = string.split(' ')"
   ]
  },
  {
   "cell_type": "code",
   "execution_count": 157,
   "metadata": {},
   "outputs": [
    {
     "data": {
      "text/plain": [
       "['R', 'B', 'R', 'G', 'B', 'R', 'B']"
      ]
     },
     "execution_count": 157,
     "metadata": {},
     "output_type": "execute_result"
    }
   ],
   "source": [
    "s"
   ]
  },
  {
   "cell_type": "code",
   "execution_count": null,
   "metadata": {},
   "outputs": [],
   "source": [
    "d = {}\n",
    "while len(s) != 1:\n",
    "    for i in range(len(s)-1):\n",
    "        d[i] = mydict.get(''.join([s[i],s[i+1]]))\n",
    "    s = list(d.values())"
   ]
  },
  {
   "cell_type": "code",
   "execution_count": 35,
   "metadata": {},
   "outputs": [],
   "source": [
    "k = ''\n",
    "d = ''\n",
    "for i in range(len(s)-1):\n",
    "    d += mydict.get(''.join([s[i],s[i+1]]))\n",
    "for j in d:\n",
    "    k += j + ' '\n",
    "\n",
    "\n",
    " "
   ]
  },
  {
   "cell_type": "code",
   "execution_count": 45,
   "metadata": {},
   "outputs": [],
   "source": [
    "\n",
    "for i in range(len(s)-1):\n",
    "    d += mydict.get(''.join([s[i],s[i+1]]))"
   ]
  },
  {
   "cell_type": "code",
   "execution_count": 46,
   "metadata": {},
   "outputs": [
    {
     "data": {
      "text/plain": [
       "'RBRGBRBRBRGBRBRBRGBRBRBRGBRBRBRGBRB'"
      ]
     },
     "execution_count": 46,
     "metadata": {},
     "output_type": "execute_result"
    }
   ],
   "source": [
    "d"
   ]
  },
  {
   "cell_type": "code",
   "execution_count": 22,
   "metadata": {},
   "outputs": [
    {
     "data": {
      "text/plain": [
       "'R B R G B R B '"
      ]
     },
     "execution_count": 22,
     "metadata": {},
     "output_type": "execute_result"
    }
   ],
   "source": [
    "k"
   ]
  }
 ],
 "metadata": {
  "kernelspec": {
   "display_name": "Python 3",
   "language": "python",
   "name": "python3"
  },
  "language_info": {
   "codemirror_mode": {
    "name": "ipython",
    "version": 3
   },
   "file_extension": ".py",
   "mimetype": "text/x-python",
   "name": "python",
   "nbconvert_exporter": "python",
   "pygments_lexer": "ipython3",
   "version": "3.7.1"
  }
 },
 "nbformat": 4,
 "nbformat_minor": 2
}
