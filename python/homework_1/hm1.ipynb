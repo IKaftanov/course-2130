{
 "cells": [
  {
   "cell_type": "code",
   "execution_count": 32,
   "metadata": {},
   "outputs": [
    {
     "name": "stdout",
     "output_type": "stream",
     "text": [
      "\n"
     ]
    }
   ],
   "source": [
    "\"\"\"\n",
    "    Ваша задача дописать функции, чтобы они проходили все тесты\n",
    "\n",
    "    Именование функций проиходит по шаблону: `t{number_of_task}`. Пожалуйста не меняйте эти имена.\n",
    "\n",
    "    Разрешается использовать только стандартные библиотеки языка.\n",
    "\"\"\""
   ]
  },
  {
   "cell_type": "code",
   "execution_count": 90,
   "metadata": {},
   "outputs": [],
   "source": [
    "def t1(number):\n",
    "    \"\"\"\n",
    "    Поправьте код что бы возвращаемое значение было ближайшим сверху, кратным к 20\n",
    "\n",
    "    Пример: number=21 тогда нужно вернуть 40\n",
    "    Пример: -5 -> 0\n",
    "\n",
    "    \"\"\"\n",
    "    print((number - 1) // 20 * 20 + 20)\n",
    "    pass"
   ]
  },
  {
   "cell_type": "code",
   "execution_count": 103,
   "metadata": {},
   "outputs": [],
   "source": [
    "def t2(string):\n",
    "    \"\"\"\n",
    "    На вход подается набор слов разделенных пробелом, инвертируйте каждое слово.\n",
    "\n",
    "    Пример: `abc abc abc` -> `cba cba cba`\n",
    "    \"\"\"\n",
    "    arr = string.split(' ')\n",
    "    n = len(arr)\n",
    "    i = 0\n",
    "    s = \"\"\n",
    "    for a in arr:\n",
    "        i = i + 1\n",
    "        s = s + str(a[::-1])\n",
    "        if i != n:\n",
    "            s = s + \" \"\n",
    "    print(s)\n",
    "    pass"
   ]
  },
  {
   "cell_type": "code",
   "execution_count": 79,
   "metadata": {},
   "outputs": [],
   "source": [
    "def t3(dictionary):\n",
    "    \"\"\"\n",
    "    На вход подается словарь. Преорбазуйте его в строку по следующему шаблону 'key: value; key: value' и так далее\n",
    "\n",
    "    \"\"\"\n",
    "    n = len(dictionary)\n",
    "    i = 0\n",
    "    s = \"\"\n",
    "    for k, v in dictionary.items():\n",
    "        i = i + 1\n",
    "        s = s + str(k) + \": \" + str(v)\n",
    "        if i != n:\n",
    "            s = s + \"; \"\n",
    "    print(s)\n",
    "    pass"
   ]
  },
  {
   "cell_type": "code",
   "execution_count": 106,
   "metadata": {},
   "outputs": [],
   "source": [
    "def t4(string, sub_string):\n",
    "    \"\"\"\n",
    "    проверить есть ли в строке инвертированная подстрока\n",
    "    \"\"\"\n",
    "    print(sub_string[::-1] in string)\n",
    "    pass"
   ]
  },
  {
   "cell_type": "code",
   "execution_count": 114,
   "metadata": {},
   "outputs": [],
   "source": [
    "def t5(strings):\n",
    "    \"\"\"\n",
    "    На вход подается список строк,\n",
    "    Отфильтруйте список строк, оставив только строки в формате: `x y z x*y*z`, где x,y,z - целые положительные числа\n",
    "    \"\"\"\n",
    "    r = []\n",
    "    for string in strings:\n",
    "        a = string.split(' ')\n",
    "        if int(a[0]) * int(a[1]) * int(a[2]) == int(a[3]):\n",
    "            r.append(string)\n",
    "    print(r)\n",
    "    pass"
   ]
  },
  {
   "cell_type": "code",
   "execution_count": 142,
   "metadata": {},
   "outputs": [],
   "source": [
    "def t6(string):\n",
    "    \"\"\"\n",
    "    Предположим у вас есть строки содержащие `#` символ, который означает backspace (удаление предыдущего) обработаете\n",
    "        такие строки\n",
    "\n",
    "    \"abc#d##c\"      ==>  \"ac\"\n",
    "    \"abc##d######\"  ==>  \"\"\n",
    "    \"#######\"       ==>  \"\"\n",
    "    \"\"              ==>  \"\"\n",
    "    \"\"\"\n",
    "    a = [1 for i in range(len(string))]\n",
    "    for i in range(len(string)):\n",
    "        if string[i] == '#':\n",
    "            a[i] = 0\n",
    "            j = i\n",
    "            while (a[j] != 1) and (j != 0):\n",
    "                j = j - 1\n",
    "            a[j] = 0\n",
    "    s = \"\"\n",
    "    for i in range(len(string)):\n",
    "        if a[i] == 1:\n",
    "            s = s + string[i]\n",
    "    print(s)\n",
    "    pass"
   ]
  },
  {
   "cell_type": "code",
   "execution_count": 178,
   "metadata": {},
   "outputs": [
    {
     "name": "stdout",
     "output_type": "stream",
     "text": [
      "0\n"
     ]
    }
   ],
   "source": [
    "def t7(lst):\n",
    "    \"\"\"\n",
    "    На вход подается список элементов, найдите сумму уникальных элементов списка.\n",
    "\n",
    "    Например: [4,5,7,5,4,8] -> 15 потому что 7 и 8 уникальны\n",
    "    \"\"\"\n",
    "    d = {}\n",
    "    for i in lst:\n",
    "        if i in d.keys():\n",
    "            d[i] += 1\n",
    "        else:\n",
    "            d[i] = 1\n",
    "    uniq = [i for i in d.keys() if d[i] == 1]\n",
    "    s = 0\n",
    "    for el in uniq:\n",
    "        s = s + el\n",
    "    print(s)\n",
    "    pass"
   ]
  },
  {
   "cell_type": "code",
   "execution_count": 182,
   "metadata": {},
   "outputs": [
    {
     "name": "stdout",
     "output_type": "stream",
     "text": [
      "695\n"
     ]
    }
   ],
   "source": [
    "def t8(string):\n",
    "    \"\"\"\n",
    "    Найдите все последовательности числев в строке и среди них найдите максимальное число\n",
    "\n",
    "    gh12cdy695m1 -> 695\n",
    "    \"\"\"\n",
    "    n = 0\n",
    "    maxn = 0\n",
    "    for i in range(len(string)):\n",
    "        if string[i].isdigit():\n",
    "            n = n * 10 + int(string[i])\n",
    "        else:\n",
    "            if n > maxn:\n",
    "                maxn = n\n",
    "            n = 0\n",
    "    if n > maxn:\n",
    "        maxn = n\n",
    "    print(maxn)\n",
    "    pass"
   ]
  },
  {
   "cell_type": "code",
   "execution_count": 185,
   "metadata": {},
   "outputs": [
    {
     "name": "stdout",
     "output_type": "stream",
     "text": [
      "200002\n"
     ]
    }
   ],
   "source": [
    "def t9(number):\n",
    "    \"\"\"\n",
    "    Приведите число number к пятизначному виду.\n",
    "\n",
    "    Т.е. для числа 5 верните `00005`\n",
    "    \"\"\"\n",
    "    s = str(number)\n",
    "    n = \"\"\n",
    "    for i in range(5 - len(s)):\n",
    "        n = n + \"0\"\n",
    "    print(n + s)\n",
    "    pass"
   ]
  },
  {
   "cell_type": "code",
   "execution_count": 208,
   "metadata": {},
   "outputs": [
    {
     "name": "stdout",
     "output_type": "stream",
     "text": [
      "B\n"
     ]
    }
   ],
   "source": [
    "def t10(string):\n",
    "    \"\"\"\n",
    "    Произведите смешивание цветов. Вам будет дана строка, необходимо смешать все пары цветов и вернуть результируюший\n",
    "        цвет\n",
    "\n",
    "    Комбинации цветов:    G G     B G    R G   B R\n",
    "    Результирующий цвет:   G       R      B     G\n",
    "\n",
    "    R R G B R G B B  <- ввод\n",
    "     R B R G B R B\n",
    "      G G B R G G\n",
    "       G R G B G\n",
    "        B B R R\n",
    "         B G R\n",
    "          R B\n",
    "           G  <-- вывод\n",
    "\n",
    "    \"\"\"\n",
    "    n = len(string)\n",
    "    a = [[0] * n for i in range(n)]\n",
    "    for i in range(n):\n",
    "        if string[i] == \"R\":\n",
    "            a[0][i] = 1\n",
    "        if string[i] == \"G\":\n",
    "            a[0][i] = 2\n",
    "        if string[i] == \"B\":\n",
    "            a[0][i] = 3\n",
    "    for i in range(n - 1):\n",
    "        for j in range(n - 1 - i):\n",
    "            if a[i][j] != a[i][j + 1]:\n",
    "                a[i + 1][j] = 6 - a[i][j] - a[i][j + 1]\n",
    "            else:\n",
    "                a[i + 1][j] = a[i][j]\n",
    "    if a[n - 1][0] == 1:\n",
    "        print(\"R\")\n",
    "    if a[n - 1][0] == 2:\n",
    "        print(\"G\")\n",
    "    if a[n - 1][0] == 3:\n",
    "        print(\"B\")\n",
    "    pass"
   ]
  },
  {
   "cell_type": "code",
   "execution_count": 215,
   "metadata": {},
   "outputs": [
    {
     "name": "stdout",
     "output_type": "stream",
     "text": [
      "-1\n"
     ]
    }
   ],
   "source": [
    "def t11(lst):\n",
    "    \"\"\"\n",
    "    Вам дам список из целых чисел. Найдите индекс числа такого, что левая и правая части списка от него равны\n",
    "        Если такого элемента нет - верните -1. Если вы нашли два элемента -> верните тот, который левее.\n",
    "    [1,2,3,5,3,2,1] = 3\n",
    "    [1,12,3,3,6,3,1] = 2\n",
    "    [10,20,30,40] = -1\n",
    "    \"\"\"\n",
    "    s = 0\n",
    "    for el in lst:\n",
    "        s = s + el\n",
    "    sl = lst[0]\n",
    "    ind = -1\n",
    "    for i in range(1, len(lst) - 1):\n",
    "        if sl == s - sl - lst[i]:\n",
    "            ind = i\n",
    "            break\n",
    "        sl = sl + lst[i]\n",
    "    print(ind)\n",
    "    pass"
   ]
  },
  {
   "cell_type": "code",
   "execution_count": 291,
   "metadata": {},
   "outputs": [
    {
     "name": "stdout",
     "output_type": "stream",
     "text": [
      "['84951234567', '84951234567', '84991234567']\n"
     ]
    }
   ],
   "source": [
    "def t12(lst):\n",
    "    \"\"\"\n",
    "    На вход подается список строк вида `Что-то происходит бла бла бла +7495 123-45-67` содержащие номер телефона.\n",
    "        Используя regex выражения запишите всевозможноые комбинации телефонов, например программа должна корректно\n",
    "        работать с 790112345678 или 890112345678\n",
    "    Вход: [`Что-то происходит бла бла бла +7495 123-45-67`]\n",
    "    Выход: [`84951234567`]\n",
    "\n",
    "    \"\"\"\n",
    "    import re\n",
    "    pattern = r'(\\s*)?(\\+)?([- _():=+]?\\d[- _():=+]?){11}(\\s*)?'\n",
    "    delpr = \"^\\s+|\\n|\\r|\\s+$\"\n",
    "    a = []\n",
    "    for el in lst:\n",
    "        res = re.search(pattern, el)\n",
    "        res.group()\n",
    "        s = res[0]\n",
    "        s = re.sub(delpr, '', s)\n",
    "        i = 1\n",
    "        if s[0] == '+':\n",
    "            while s[i] != \"7\":\n",
    "                i += 1\n",
    "            i += 1\n",
    "        ns = \"8\"\n",
    "        while i < len(s):\n",
    "            if s[i].isdigit():\n",
    "                ns = ns + s[i]\n",
    "            i += 1\n",
    "        a.append(ns)\n",
    "    print(a)\n",
    "    pass\n",
    "t12([\"Что-то происходит бла бла бла +7495 123-45-67\", \"Звони 8 495 123-45-67 мне\", \"По вопросам рекламы +7(499)123-45-67\"])"
   ]
  },
  {
   "cell_type": "code",
   "execution_count": 232,
   "metadata": {},
   "outputs": [
    {
     "name": "stdout",
     "output_type": "stream",
     "text": [
      "0\n"
     ]
    }
   ],
   "source": [
    "def t13(number_1, number_2):\n",
    "    \"\"\"\n",
    "    Сложите два числа по элементно:\n",
    "        248\n",
    "       +208\n",
    "        4416\n",
    "    \"\"\"\n",
    "    s = \"\"\n",
    "    n1 = len(str(number_1))\n",
    "    n2 = len(str(number_2))\n",
    "    for i in range(max(n1, n2)):\n",
    "        s = str(number_1 % 10 + number_2 % 10) + s\n",
    "        number_1 //= 10\n",
    "        number_2 //= 10\n",
    "    print(s)\n",
    "    pass"
   ]
  },
  {
   "cell_type": "code",
   "execution_count": 242,
   "metadata": {},
   "outputs": [
    {
     "name": "stdout",
     "output_type": "stream",
     "text": [
      "Eight Does Not Equal Five\n"
     ]
    }
   ],
   "source": [
    "def t14(string):\n",
    "    \"\"\"\n",
    "    Преобразуйте математическое выражение (символьное) в буквенное выраэение\n",
    "\n",
    "    Для операций используйте следующую таблицу\n",
    "        { '+':   'Plus ',\n",
    "          '-':   'Minus ',\n",
    "          '*':   'Times ',\n",
    "          '/':   'Divided By ',\n",
    "          '**':  'To The Power Of ',\n",
    "          '=':   'Equals ',\n",
    "          '!=':  'Does Not Equal ' }\n",
    "    Примеры:\n",
    "        4 ** 9 -> Four To The Power Of Nine\n",
    "        10 - 5 -> Ten Minus Five\n",
    "        2 = 2  -> Two Equals Two\n",
    "    \"\"\"\n",
    "    d = { '0':   'Zero ',\n",
    "          '1':   'One ',\n",
    "          '2':   'Two ',\n",
    "          '3':   'Three ',\n",
    "          '4':   'Four ',\n",
    "          '5':   'Five ',\n",
    "          '6':   'Six ',\n",
    "          '7':   'Seven ',\n",
    "          '8':   'Eight ',\n",
    "          '9':   'Nine ',\n",
    "          '10':   'Ten ',\n",
    "          '+':   'Plus ',\n",
    "          '-':   'Minus ',\n",
    "          '*':   'Times ',\n",
    "          '/':   'Divided By ',\n",
    "          '**':  'To The Power Of ',\n",
    "          '=':   'Equals ',\n",
    "          '!=':  'Does Not Equal ' }\n",
    "    s = string.split(\" \")\n",
    "    ns = \"\"\n",
    "    for el in s:\n",
    "        ns = ns + d[el]\n",
    "    if ns[len(ns) - 1] == \" \":\n",
    "        ns = ns[:len(ns) - 1]\n",
    "    print(ns)\n",
    "    pass"
   ]
  },
  {
   "cell_type": "code",
   "execution_count": 219,
   "metadata": {},
   "outputs": [
    {
     "name": "stdout",
     "output_type": "stream",
     "text": [
      "18\n"
     ]
    }
   ],
   "source": [
    "def t15(lst):\n",
    "    \"\"\"\n",
    "    Найдите сумму элементов на диагоналях\n",
    "\n",
    "    [[ 1, 2, 3 ],\n",
    "    [ 4, 5, 6 ],\n",
    "    [ 7, 8, 9 ]]\n",
    "    Результат: 30\n",
    "    \"\"\"\n",
    "    s = 0\n",
    "    for i in range(len(lst)):\n",
    "        s = s + lst[i][i] + lst[i][len(lst[i]) - 1 - i]\n",
    "    print(s)\n",
    "    pass"
   ]
  }
 ],
 "metadata": {
  "kernelspec": {
   "display_name": "Python 3",
   "language": "python",
   "name": "python3"
  },
  "language_info": {
   "codemirror_mode": {
    "name": "ipython",
    "version": 3
   },
   "file_extension": ".py",
   "mimetype": "text/x-python",
   "name": "python",
   "nbconvert_exporter": "python",
   "pygments_lexer": "ipython3",
   "version": "3.8.3"
  }
 },
 "nbformat": 4,
 "nbformat_minor": 4
}
