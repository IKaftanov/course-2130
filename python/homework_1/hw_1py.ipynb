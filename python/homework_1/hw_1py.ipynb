{
 "cells": [
  {
   "cell_type": "code",
   "execution_count": 1,
   "metadata": {},
   "outputs": [
    {
     "data": {
      "text/plain": [
       "60"
      ]
     },
     "execution_count": 1,
     "metadata": {},
     "output_type": "execute_result"
    }
   ],
   "source": [
    "def t1(number):\n",
    "    \"\"\"\n",
    "    Поправьте код что бы возвращаемое значение было ближайшим сверху, кратным к 20\n",
    "\n",
    "    Пример: number=21 тогда нужно вернуть 40\n",
    "    Пример: -5 -> 0\n",
    "\n",
    "    \"\"\"\n",
    "    for i in range(20):\n",
    "        if number%20==0:\n",
    "            return number\n",
    "        else:\n",
    "            number=number+1\n",
    "        pass\n",
    "    pass\n",
    "\n",
    "t1(41)"
   ]
  },
  {
   "cell_type": "code",
   "execution_count": 2,
   "metadata": {},
   "outputs": [
    {
     "data": {
      "text/plain": [
       "'cba cba cba adc f21'"
      ]
     },
     "execution_count": 2,
     "metadata": {},
     "output_type": "execute_result"
    }
   ],
   "source": [
    "def t2(string):\n",
    "    \"\"\"\n",
    "    На вход подается набор слов разделенных пробелом, инвертируйте каждое слово.\n",
    "\n",
    "    Пример: `abc abc abc` -> `cba cba cba`\n",
    "    \"\"\"\n",
    "    split = string.split()\n",
    "    reverse = []\n",
    "    \n",
    "    for i in split:\n",
    "        reverse.append(str(i[::-1]))\n",
    "    \n",
    "    return ' '.join(reverse)\n",
    "    pass\n",
    "\n",
    "t2('abc abc abc cda 12f')"
   ]
  },
  {
   "cell_type": "code",
   "execution_count": 3,
   "metadata": {},
   "outputs": [
    {
     "data": {
      "text/plain": [
       "'moscow: 1; birm: 2; claude: 4; dirt: 5; 12: dunkan'"
      ]
     },
     "execution_count": 3,
     "metadata": {},
     "output_type": "execute_result"
    }
   ],
   "source": [
    "def t3(dictionary):\n",
    "    \"\"\"\n",
    "    На вход подается словарь. Преорбазуйте его в строку по следующему шаблону 'key: value; key: value' и так далее\n",
    "\n",
    "    \"\"\"\n",
    "    items = dictionary.items()\n",
    "    aux = []\n",
    "    for i in items:\n",
    "        aux.append(str(i[0]) + ': ' + str(i[1]))\n",
    "    return '; '.join(aux)\n",
    "    pass\n",
    "\n",
    "mydict = {'moscow':1, 'birm':2, 'claude':4, 'dirt':5, 12:'dunkan'}\n",
    "t3(mydict)"
   ]
  },
  {
   "cell_type": "code",
   "execution_count": 4,
   "metadata": {},
   "outputs": [
    {
     "data": {
      "text/plain": [
       "False"
      ]
     },
     "execution_count": 4,
     "metadata": {},
     "output_type": "execute_result"
    }
   ],
   "source": [
    "def t4(string, sub_string):\n",
    "    \"\"\"\n",
    "    проверить есть ли в строке инвертированная подстрока\n",
    "    \"\"\"\n",
    "    if sub_string[::-1] in string:\n",
    "        return True\n",
    "    else:\n",
    "        return False\n",
    "    pass\n",
    "\n",
    "t4('Moscow', 'woss')"
   ]
  },
  {
   "cell_type": "code",
   "execution_count": 5,
   "metadata": {
    "scrolled": true
   },
   "outputs": [
    {
     "data": {
      "text/plain": [
       "['1 2 3 1*2*3',\n",
       " '12 21 23 12*21*23',\n",
       " '453423 5432345 243543 234532*2435234*2344523']"
      ]
     },
     "execution_count": 5,
     "metadata": {},
     "output_type": "execute_result"
    }
   ],
   "source": [
    "import re\n",
    "\n",
    "def t5(strings):\n",
    "    \"\"\"\n",
    "    На вход подается список строк,\n",
    "    Отфильтруйте список строк, оставив только строки в формате: `x y z x*y*z`, где x,y,z - целые положительные числа\n",
    "    \"\"\"\n",
    "    regex = re.compile(r'^\\d+\\s\\d+\\s\\d+\\s\\d+\\*\\d+\\*\\d+$')\n",
    "    \n",
    "    filtered = [*filter(regex.match, strings)]\n",
    "    \n",
    "    return filtered\n",
    "    pass\n",
    "\n",
    "mystringlist = ['1 2 3 1*2*3', 'moscow', '123 123', '12 21 23 12*21*23', '1 2 3 123', 'azsdfasd 1 2 3 1*2*3', '-11 2.5 -0 1*2*3', '423 545 0.41 12*42*34', '453423 5432345 243543 234532*2435234*2344523', ]\n",
    "t5(mystringlist)"
   ]
  },
  {
   "cell_type": "code",
   "execution_count": 6,
   "metadata": {},
   "outputs": [
    {
     "data": {
      "text/plain": [
       "21"
      ]
     },
     "execution_count": 6,
     "metadata": {},
     "output_type": "execute_result"
    }
   ],
   "source": [
    "def t7(lst):\n",
    "    \"\"\"\n",
    "    На вход подается список элементов, найдите сумму уникальных элементов списка.\n",
    "\n",
    "    Например: [4,5,7,5,4,8] -> 15 потому что 7 и 8 уникальны\n",
    "    \"\"\"\n",
    "    unique_vals = []\n",
    "    \n",
    "    for i in set(lst):\n",
    "        if lst.count(i) == 1:\n",
    "            unique_vals.append(i)\n",
    "        else:\n",
    "            pass\n",
    "    return sum(unique_vals)\n",
    "    pass\n",
    "\n",
    "mylist = [4,5,7,5,4,8,4,6,]\n",
    "t7(mylist)"
   ]
  },
  {
   "cell_type": "code",
   "execution_count": 7,
   "metadata": {},
   "outputs": [
    {
     "data": {
      "text/plain": [
       "234523465"
      ]
     },
     "execution_count": 7,
     "metadata": {},
     "output_type": "execute_result"
    }
   ],
   "source": [
    "def t8(string):\n",
    "    \"\"\"\n",
    "    Найдите все последовательности числев в строке и среди них найдите максимальное число\n",
    "\n",
    "    gh12cdy695m1 -> 695\n",
    "    \"\"\"\n",
    "    num = re.findall(r'\\d+', string)\n",
    "    num = map(int, num)\n",
    "    return max(num)\n",
    "    pass\n",
    "\n",
    "mystr1 = 'fn0.234523465ower2342fqwe 2344 fwef 234444 fwef 21 21eq0234485782we1234d32d'\n",
    "t8(mystr1)"
   ]
  },
  {
   "cell_type": "code",
   "execution_count": 8,
   "metadata": {},
   "outputs": [
    {
     "data": {
      "text/plain": [
       "'123456'"
      ]
     },
     "execution_count": 8,
     "metadata": {},
     "output_type": "execute_result"
    }
   ],
   "source": [
    "def t9(number):\n",
    "    \"\"\"\n",
    "    Приведите число number к пятизначному виду.\n",
    "\n",
    "    Т.е. для числа 5 верните `00005`\n",
    "    \"\"\"\n",
    "    lenght = len(str(abs(number)))\n",
    "    zeros = (5 - lenght) * '0'\n",
    "    return zeros + str(number)\n",
    "    pass\n",
    "\n",
    "t9(123456)"
   ]
  },
  {
   "cell_type": "code",
   "execution_count": 5,
   "metadata": {},
   "outputs": [
    {
     "data": {
      "text/plain": [
       "'G'"
      ]
     },
     "execution_count": 5,
     "metadata": {},
     "output_type": "execute_result"
    }
   ],
   "source": [
    "def t10(string):\n",
    "    \"\"\"\n",
    "    Произведите смешивание цветов. Вам будет дана строка, необходимо смешать все пары цветов и вернуть результируюший\n",
    "        цвет\n",
    "\n",
    "    Комбинации цветов:    G G     B G    R G   B R\n",
    "    Результирующий цвет:   G       R      B     G\n",
    "\n",
    "    R R G B R G B B  <- ввод\n",
    "     R B R G B R B\n",
    "      G G B R G G\n",
    "       G R G B G\n",
    "        B B R R\n",
    "         B G R\n",
    "          R B\n",
    "           G  <-- вывод\n",
    "\n",
    "    \"\"\"\n",
    "    def colorsum(color1, color2):\n",
    "        if color1 == color2:\n",
    "            return color1\n",
    "        elif color1 == 'G':\n",
    "            if color2 == 'B':\n",
    "                return 'R'\n",
    "            else:\n",
    "                return 'B'\n",
    "        elif color1 == 'B':\n",
    "            if color2 == 'G':\n",
    "                return 'R'\n",
    "            else:\n",
    "                return 'G'\n",
    "        else:\n",
    "            if color2 == 'G':\n",
    "                return 'B'\n",
    "            else:\n",
    "                return 'G'\n",
    "        pass\n",
    "    split = string\n",
    "    \n",
    "    sumcols = ''\n",
    "    while len(split) > 1:\n",
    "        for i in range(len(split)-1):\n",
    "            sumcols = sumcols + colorsum(split[i], split[i+1])\n",
    "        split = sumcols\n",
    "        sumcols = ''\n",
    "    return ' '.join(split)\n",
    "    pass\n",
    "\n",
    "t10('RRGBRGBB')"
   ]
  },
  {
   "cell_type": "code",
   "execution_count": 10,
   "metadata": {},
   "outputs": [
    {
     "data": {
      "text/plain": [
       "4416"
      ]
     },
     "execution_count": 10,
     "metadata": {},
     "output_type": "execute_result"
    }
   ],
   "source": [
    "def t13(number_1, number_2):\n",
    "    \"\"\"\n",
    "    Сложите два числа по элементно:\n",
    "        248\n",
    "       +208\n",
    "        4416\n",
    "    \"\"\"\n",
    "    len_1 = len(str(number_1))\n",
    "    len_2 = len(str(number_2))\n",
    "    summed = []\n",
    "    \n",
    "    if len_1 == len_2:\n",
    "        for i in range(len_1):\n",
    "            summed.append(str(int(str(number_1)[i]) + int(str(number_2)[i])))\n",
    "        return int(''.join(summed))\n",
    "    elif len_1 > len_2:\n",
    "        diff = len_1 - len_2\n",
    "        number_2 = number_2 * 10**diff\n",
    "        for i in range(len_1):\n",
    "            summed.append(str(int(str(number_1)[i]) + int(str(number_2)[i])))\n",
    "        return int(''.join(summed))\n",
    "    else:\n",
    "        diff = len_2 - len_1\n",
    "        number_1 = number_1 * 10**diff\n",
    "        for i in range(len_2):\n",
    "            summed.append(str(int(str(number_1)[i]) + int(str(number_2)[i])))\n",
    "        return int(''.join(summed))\n",
    "    pass\n",
    "\n",
    "t13(248, 208)"
   ]
  },
  {
   "cell_type": "code",
   "execution_count": 11,
   "metadata": {},
   "outputs": [],
   "source": [
    "def t15(lst):\n",
    "    \"\"\"\n",
    "    Найдите сумму элементов на диагоналях\n",
    "\n",
    "    [[ 1, 2, 3 ],\n",
    "    [ 4, 5, 6 ],\n",
    "    [ 7, 8, 9 ]]\n",
    "    Результат: 30\n",
    "    \"\"\"\n",
    "    size = len(lst[0])\n",
    "    if size == 1:\n",
    "        return lst[0][0]*2\n",
    "\n",
    "    diag_sum = 0\n",
    "\n",
    "    for i in range(size):\n",
    "        diag_sum += lst[i][i]\n",
    "\n",
    "        diag_sum += lst[i][size-i-1]\n",
    "    return diag_sum\n",
    "    pass"
   ]
  },
  {
   "cell_type": "code",
   "execution_count": 12,
   "metadata": {},
   "outputs": [
    {
     "data": {
      "text/plain": [
       "3"
      ]
     },
     "execution_count": 12,
     "metadata": {},
     "output_type": "execute_result"
    }
   ],
   "source": [
    "def t11(lst):\n",
    "    \"\"\"\n",
    "    Вам дам список из целых чисел. Найдите индекс числа такого, что левая и правая части списка от него равны\n",
    "        Если такого элемента нет - верните -1. Если вы нашли два элемента -> верните тот, который левее.\n",
    "    [1,2,3,5,3,2,1] = 3\n",
    "    [1,12,3,3,6,3,1] = 2\n",
    "    [10,20,30,40] = -1\n",
    "    \"\"\"\n",
    "    index = -1\n",
    "    for i in range(len(lst)):\n",
    "        if sum(lst[0:i]) == sum(lst[i+1:]):\n",
    "            index = index + 1 + i\n",
    "            break\n",
    "        else:\n",
    "            pass\n",
    "    return index\n",
    "    pass\n",
    "\n",
    "list1 = [1,2,3,5,3,2,1]\n",
    "list2 = [1,12,3,3,6,3,1]\n",
    "list3 = [10,20,30,40]\n",
    "list4 = [1, 2, 3, 4, 0, 3, 2, 1]\n",
    "\n",
    "t11(list4)"
   ]
  },
  {
   "cell_type": "code",
   "execution_count": 13,
   "metadata": {},
   "outputs": [
    {
     "data": {
      "text/plain": [
       "10"
      ]
     },
     "execution_count": 13,
     "metadata": {},
     "output_type": "execute_result"
    }
   ],
   "source": [
    "list1 = [1,2,3,5,3,2,1]\n",
    "list2 = [1,12,3,3,6,3,1]\n",
    "list3 = [10,20,30,40]\n",
    "list4 = [1, 2, 3, 4, 4, 3, 2, 1]\n",
    "\n",
    "sum(list4[4:])"
   ]
  },
  {
   "cell_type": "code",
   "execution_count": 2,
   "metadata": {},
   "outputs": [
    {
     "data": {
      "text/plain": [
       "'FourTo The Power OfNine'"
      ]
     },
     "execution_count": 2,
     "metadata": {},
     "output_type": "execute_result"
    }
   ],
   "source": [
    "def t14(string):\n",
    "    \"\"\"\n",
    "    Преобразуйте математическое выражение (символьное) в буквенное выраэение\n",
    "\n",
    "    Для операций используйте следующую таблицу\n",
    "        { '+':   'Plus ',\n",
    "          '-':   'Minus ',\n",
    "          '*':   'Times ',\n",
    "          '/':   'Divided By ',\n",
    "          '**':  'To The Power Of ',\n",
    "          '=':   'Equals ',\n",
    "          '!=':  'Does Not Equal ' }\n",
    "    Примеры:\n",
    "        4 ** 9 -> Four To The Power Of Nine\n",
    "        10 - 5 -> Ten Minus Five\n",
    "        2 = 2  -> Two Equals Two\n",
    "    \"\"\"\n",
    "    math_dict = { '+':   ' Plus ',\n",
    "          '-':   ' Minus ',\n",
    "          '*':   'Times',\n",
    "          '/':   'Divided By',\n",
    "          '**':  'To The Power Of',\n",
    "          '=':   'Equals',\n",
    "          '!=':  'Does Not Equal' ,\n",
    "            '1':'One', '2':'Two', \n",
    "            '3':'Three', \n",
    "            '4':'Four', \n",
    "            '5':'Five', \n",
    "            '6':'Six', \n",
    "            '7':'Seven', \n",
    "            '8':'Eight', \n",
    "            '9':'Nine', \n",
    "            '10':'Ten' }\n",
    "    \n",
    "    newstring = ''\n",
    "    string = string.split()\n",
    "    for i in range(len(string)):\n",
    "        newstring = newstring + math_dict[string[i]]\n",
    "    return newstring\n",
    "    pass\n",
    "\n",
    "t14('4 ** 9')"
   ]
  },
  {
   "cell_type": "code",
   "execution_count": 22,
   "metadata": {},
   "outputs": [
    {
     "data": {
      "text/plain": [
       "[<re.Match object; span=(30, 45), match='+7495 123-45-67'>]"
      ]
     },
     "execution_count": 22,
     "metadata": {},
     "output_type": "execute_result"
    }
   ],
   "source": [
    "def t12(lst):\n",
    "    \"\"\"\n",
    "    На вход подается список строк вида `Что-то происходит бла бла бла +7495 123-45-67` содержащие номер телефона.\n",
    "        Используя regex выражения запишите всевозможноые комбинации телефонов, например программа должна корректно\n",
    "        работать с 790112345678 или 890112345678\n",
    "    Вход: [`Что-то происходит бла бла бла +7495 123-45-67`]\n",
    "    Выход: [`84951234567`]\n",
    "\n",
    "    \"\"\"\n",
    "    regex = re.compile(r'\\+?\\d[\\( -]?\\d{3}[\\) -]?\\d{3}[ -]?\\d{2}[ -]?\\d{2}')\n",
    "    phone = []\n",
    "    for i in range(len(lst)):\n",
    "        phone.append(re.search(r'\\+?\\d[\\( -]?\\d{3}[\\) -]?\\d{3}[ -]?\\d{2}[ -]?\\d{2}', lst[i], flags=0))\n",
    "    return phone\n",
    "    pass\n",
    "\n",
    "list1 = ['Что-то происходит бла бла бла +7495 123-45-67']\n",
    "t12(list1)"
   ]
  },
  {
   "cell_type": "code",
   "execution_count": 33,
   "metadata": {},
   "outputs": [
    {
     "data": {
      "text/plain": [
       "'ac'"
      ]
     },
     "execution_count": 33,
     "metadata": {},
     "output_type": "execute_result"
    }
   ],
   "source": [
    "def t6(string):\n",
    "    \"\"\"\n",
    "    Предположим у вас есть строки содержащие `#` символ, который означает backspace (удаление предыдущего) обработаете\n",
    "        такие строки\n",
    "\n",
    "    \"abc#d##c\"      ==>  \"ac\"\n",
    "    \"abc##d######\"  ==>  \"\"\n",
    "    \"#######\"       ==>  \"\"\n",
    "    \"\"              ==>  \"\"\n",
    "    \"\"\"\n",
    "    newstring = ''\n",
    "    for i in range(len(string)):\n",
    "        if string[i] != '#':\n",
    "            newstring = newstring + string[i]\n",
    "        else:\n",
    "            newstring = newstring[:-1]\n",
    "    return newstring\n",
    "    pass\n",
    "\n",
    "t6('abc#d##c')"
   ]
  }
 ],
 "metadata": {
  "kernelspec": {
   "display_name": "Python 3",
   "language": "python",
   "name": "python3"
  },
  "language_info": {
   "codemirror_mode": {
    "name": "ipython",
    "version": 3
   },
   "file_extension": ".py",
   "mimetype": "text/x-python",
   "name": "python",
   "nbconvert_exporter": "python",
   "pygments_lexer": "ipython3",
   "version": "3.7.3"
  }
 },
 "nbformat": 4,
 "nbformat_minor": 4
}
